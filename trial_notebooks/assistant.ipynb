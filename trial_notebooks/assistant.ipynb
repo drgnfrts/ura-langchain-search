{
 "cells": [
  {
   "cell_type": "code",
   "execution_count": 1,
   "metadata": {},
   "outputs": [],
   "source": [
    "from openai import OpenAI"
   ]
  },
  {
   "cell_type": "code",
   "execution_count": 2,
   "metadata": {},
   "outputs": [],
   "source": [
    "client = OpenAI(api_key=)\n",
    " \n",
    "assistant = client.beta.assistants.create(\n",
    "  name=\"URA Assistant\",\n",
    "  instructions=\"You are an expert on the built environment, property sales and urban planning sector. Use the given documents to answer questions relating to these areas. If you are unable to find relevant information or do not know, say that you are unable to help\",\n",
    "  model=\"gpt-4o\",\n",
    "  tools=[{\"type\": \"file_search\"}],\n",
    ")"
   ]
  },
  {
   "cell_type": "code",
   "execution_count": 13,
   "metadata": {},
   "outputs": [
    {
     "name": "stdout",
     "output_type": "stream",
     "text": [
      "[Assistant(id='asst_D9uDZLsSQMgGW8Z6T0JzCOrx', created_at=1716171377, description=None, instructions='You are an expert on the built environment, property sales and urban planning sector. Use the given documents to answer questions relating to these areas. If you are unable to find relevant information or do not know, say that you are unable to help', metadata={}, model='gpt-4o', name='URA Assistant', object='assistant', tools=[FileSearchTool(type='file_search')], response_format='auto', temperature=1.0, tool_resources=ToolResources(code_interpreter=None, file_search=ToolResourcesFileSearch(vector_store_ids=['vs_VpbRo3QZvpqM8yhsxtDllf7t'])), top_p=1.0)]\n"
     ]
    }
   ],
   "source": [
    "my_assistants = client.beta.assistants.list(\n",
    "    order=\"desc\",\n",
    "    limit=\"20\",\n",
    ")\n",
    "print(my_assistants.data)"
   ]
  },
  {
   "cell_type": "code",
   "execution_count": 58,
   "metadata": {},
   "outputs": [],
   "source": [
    "my_updated_assistant = client.beta.assistants.update(\n",
    "  #ASSISTANT_ID,\n",
    "  instructions=\"You are an expert on the built environment, property sales and urban planning sector. Use only the given documents to answer questions relating to these areas. After your summarised first respond, generate the specific chunks you have used. Be very strict in the interpretation of the given information and ensure your response strictly adheres to it.  If you are unable to find relevant information or do not know, say that you are unable to help\",\n",
    "  name=\"HR Helper\",\n",
    "  tools=[{\"type\": \"file_search\"}],\n",
    "  model=\"gpt-3.5-turbo\"\n",
    ")"
   ]
  },
  {
   "cell_type": "code",
   "execution_count": 26,
   "metadata": {},
   "outputs": [
    {
     "name": "stdout",
     "output_type": "stream",
     "text": [
      "completed\n",
      "FileCounts(cancelled=0, completed=1, failed=0, in_progress=0, total=1)\n"
     ]
    }
   ],
   "source": [
    "# Create a vector store caled \"Financial Statements\"\n",
    "vector_store = client.beta.vector_stores.create(name=\"URA_Test\")\n",
    " \n",
    "# Ready the files for upload to OpenAI\n",
    "file_paths = [\"data/23q4_stats.html\"]\n",
    "file_streams = [open(path, \"rb\") for path in file_paths]\n",
    " \n",
    "# Use the upload and poll SDK helper to upload the files, add them to the vector store,\n",
    "# and poll the status of the file batch for completion.\n",
    "file_batch = client.beta.vector_stores.file_batches.upload_and_poll(\n",
    "  vector_store_id=vector_store.id, files=file_streams\n",
    ")\n",
    " \n",
    "# You can print the status and the file counts of the batch to see the result of this operation.\n",
    "print(file_batch.status)\n",
    "print(file_batch.file_counts)"
   ]
  },
  {
   "cell_type": "code",
   "execution_count": 20,
   "metadata": {},
   "outputs": [
    {
     "name": "stdout",
     "output_type": "stream",
     "text": [
      "completed\n",
      "FileCounts(cancelled=0, completed=1, failed=0, in_progress=0, total=1)\n"
     ]
    }
   ],
   "source": [
    "# Ready the files for upload to OpenAI\n",
    "file_paths = [\"../data/23q4_stats.html\"]\n",
    "file_streams = [open(path, \"rb\") for path in file_paths]\n",
    " \n",
    "# Use the upload and poll SDK helper to upload the files, add them to the vector store,\n",
    "# and poll the status of the file batch for completion.\n",
    "file_batch = client.beta.vector_stores.file_batches.upload_and_poll(\n",
    "  vector_store_id=vector_store.id, files=file_streams\n",
    ")\n",
    " \n",
    "# You can print the status and the file counts of the batch to see the result of this operation.\n",
    "print(file_batch.status)\n",
    "print(file_batch.file_counts)"
   ]
  },
  {
   "cell_type": "code",
   "execution_count": 52,
   "metadata": {},
   "outputs": [],
   "source": [
    "assistant = client.beta.assistants.update(\n",
    "  assistant_id=assistant.id,\n",
    "  tool_resources={\"file_search\": {\"vector_store_ids\": [vector_store.id]}},\n",
    ")"
   ]
  },
  {
   "cell_type": "code",
   "execution_count": 59,
   "metadata": {},
   "outputs": [],
   "source": [
    "# Create a thread and attach the file to the message\n",
    "thread = client.beta.threads.create(\n",
    "  messages=[\n",
    "    {\n",
    "      \"role\": \"user\",\n",
    "      \"content\": \"Give me a comparison of the stock and vacancy of residential units as compared to office units for the 4th Quarter 2023 and 1st Quarter 2023. If there are any web links, please provide me with them.\",\n",
    "      # Attach the new file to the message.\n",
    "    }\n",
    "  ]\n",
    ")"
   ]
  },
  {
   "cell_type": "code",
   "execution_count": 54,
   "metadata": {},
   "outputs": [
    {
     "name": "stdout",
     "output_type": "stream",
     "text": [
      "\n",
      "assistant > file_search\n",
      "\n",
      "\n",
      "assistant > In the 4th Quarter of 2023, the stock of completed private residential units (excluding ECs) increased by 3,925 units, while the stock of occupied private residential units (excluding ECs) increased by 4,926 units. This led to a decrease in the vacancy rate of completed private residential units (excluding ECs) to 8.1% at the end of the quarter. In comparison, the stock of office space increased by 2,000 sq m (nett) in the same quarter, and the island-wide vacancy rate of office space decreased to 9.9%[0][1].\n",
      "\n",
      "For the 1st Quarter of 2023, the exact figures for residential units and office units are not provided in the search results. However, you can access the full details, including the stock and vacancy of residential units and office units for the 1st Quarter of 2023, by referring to the provided document: \"23q4_stats.html\"[0].\n",
      "[0] 23q4_stats.html\n",
      "[1] 23q4_stats.html\n",
      "[2] 23q4_stats.html\n"
     ]
    }
   ],
   "source": [
    "from typing_extensions import override\n",
    "from openai import AssistantEventHandler, OpenAI\n",
    " \n",
    "client = OpenAI()\n",
    " \n",
    "class EventHandler(AssistantEventHandler):\n",
    "    @override\n",
    "    def on_text_created(self, text) -> None:\n",
    "        print(f\"\\nassistant > \", end=\"\", flush=True)\n",
    "\n",
    "    @override\n",
    "    def on_tool_call_created(self, tool_call):\n",
    "        print(f\"\\nassistant > {tool_call.type}\\n\", flush=True)\n",
    "\n",
    "    @override\n",
    "    def on_message_done(self, message) -> None:\n",
    "        # print a citation to the file searched\n",
    "        message_content = message.content[0].text\n",
    "        annotations = message_content.annotations\n",
    "        citations = []\n",
    "        for index, annotation in enumerate(annotations):\n",
    "            message_content.value = message_content.value.replace(\n",
    "                annotation.text, f\"[{index}]\"\n",
    "            )\n",
    "            if file_citation := getattr(annotation, \"file_citation\", None):\n",
    "                cited_file = client.files.retrieve(file_citation.file_id)\n",
    "                citations.append(f\"[{index}] {cited_file.filename}\")\n",
    "\n",
    "        print(message_content.value)\n",
    "        print(\"\\n\".join(citations))\n",
    "\n",
    "\n",
    "# Then, we use the stream SDK helper\n",
    "# with the EventHandler class to create the Run\n",
    "# and stream the response.\n",
    "\n",
    "with client.beta.threads.runs.stream(\n",
    "    thread_id=thread.id,\n",
    "    assistant_id=assistant.id,\n",
    "    instructions=\"Please address the user as Nick Tang. The user has a premium account.\",\n",
    "    event_handler=EventHandler(),\n",
    ") as stream:\n",
    "    stream.until_done()"
   ]
  },
  {
   "cell_type": "code",
   "execution_count": 60,
   "metadata": {},
   "outputs": [
    {
     "name": "stdout",
     "output_type": "stream",
     "text": [
      "\n",
      "assistant > file_search\n",
      "\n",
      "\n",
      "assistant > Here is the comparison of stock and vacancy of residential units and office units for the 4th Quarter 2023:\n",
      "\n",
      "**Residential Units (4th Quarter 2023):**\n",
      "- The stock of completed private residential units (excluding ECs) increased by 3,925 units compared to the previous quarter.\n",
      "- The vacancy rate of completed private residential units decreased to 8.1% at the end of the 4th Quarter 2023[0].\n",
      "\n",
      "**Office Units (4th Quarter 2023):**\n",
      "- The stock of office space increased by 2,000 sq m in the 4th Quarter 2023.\n",
      "- The island-wide vacancy rate of office space decreased to 9.9% at the end of the 4th Quarter 2023[1].\n",
      "\n",
      "Unfortunately, the document did not contain information about the 1st Quarter 2023 for a direct comparison.\n",
      "[0] 23q4_stats.html\n",
      "[1] 23q4_stats.html\n"
     ]
    }
   ],
   "source": [
    "with client.beta.threads.runs.stream(\n",
    "    thread_id=thread.id,\n",
    "    assistant_id=assistant.id,\n",
    "    instructions=\"Please address the user as Nick Tang. The user has a premium account. Respond with 'I am unable to help you with that' if you are unable to find relevant information\",\n",
    "    event_handler=EventHandler(),\n",
    ") as stream:\n",
    "    stream.until_done()"
   ]
  },
  {
   "cell_type": "code",
   "execution_count": 24,
   "metadata": {},
   "outputs": [
    {
     "name": "stdout",
     "output_type": "stream",
     "text": [
      "SyncCursorPage[VectorStoreFile](data=[VectorStoreFile(id='file-DpQsR16Xq1zypA0cTlei132M', created_at=1716172782, last_error=None, object='vector_store.file', status='completed', usage_bytes=84470, vector_store_id='vs_VpbRo3QZvpqM8yhsxtDllf7t'), VectorStoreFile(id='file-H8uTDvLmJOm2vci3NEvwUPqO', created_at=1716171386, last_error=None, object='vector_store.file', status='completed', usage_bytes=21150, vector_store_id='vs_VpbRo3QZvpqM8yhsxtDllf7t')], object='list', first_id='file-DpQsR16Xq1zypA0cTlei132M', last_id='file-H8uTDvLmJOm2vci3NEvwUPqO', has_more=False)\n"
     ]
    }
   ],
   "source": [
    "vector_store_files = client.beta.vector_stores.files.list(\n",
    "  vector_store_id=vector_store.id\n",
    ")\n",
    "print(vector_store_files)"
   ]
  },
  {
   "cell_type": "code",
   "execution_count": 25,
   "metadata": {},
   "outputs": [
    {
     "name": "stdout",
     "output_type": "stream",
     "text": [
      "VectorStoreDeleted(id='vs_VpbRo3QZvpqM8yhsxtDllf7t', deleted=True, object='vector_store.deleted')\n"
     ]
    }
   ],
   "source": [
    "deleted_vector_store = client.beta.vector_stores.delete(\n",
    "  vector_store_id=vector_store.id\n",
    ")\n",
    "print(deleted_vector_store)"
   ]
  }
 ],
 "metadata": {
  "kernelspec": {
   "display_name": "ura-langchain-search-DfH6f1fX-py3.10",
   "language": "python",
   "name": "python3"
  },
  "language_info": {
   "codemirror_mode": {
    "name": "ipython",
    "version": 3
   },
   "file_extension": ".py",
   "mimetype": "text/x-python",
   "name": "python",
   "nbconvert_exporter": "python",
   "pygments_lexer": "ipython3",
   "version": "3.10.11"
  }
 },
 "nbformat": 4,
 "nbformat_minor": 2
}
