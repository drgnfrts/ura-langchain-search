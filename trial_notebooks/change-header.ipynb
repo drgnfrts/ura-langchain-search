{
 "cells": [
  {
   "cell_type": "code",
   "execution_count": 1,
   "metadata": {},
   "outputs": [],
   "source": [
    "import re\n",
    "import os"
   ]
  },
  {
   "cell_type": "code",
   "execution_count": 92,
   "metadata": {},
   "outputs": [],
   "source": [
    "def process_markdown(file_path):\n",
    "    with open(file_path, 'r') as file:\n",
    "        lines = file.readlines()\n",
    "\n",
    "    # Extract YAML metadata\n",
    "    yaml_metadata = []\n",
    "    in_yaml = False\n",
    "    content_lines = []\n",
    "    for line in lines:\n",
    "        if line.strip() == \"---\" and not in_yaml:\n",
    "            in_yaml = True\n",
    "            continue\n",
    "        elif line.strip() == \"---\" and in_yaml:\n",
    "            in_yaml = False\n",
    "            continue\n",
    "        if in_yaml:\n",
    "            yaml_metadata.append(line)\n",
    "        else:\n",
    "            content_lines.append(line)\n",
    "    \n",
    "    yaml_str = '---\\n' + ''.join(yaml_metadata) + '---\\n'\n",
    "    \n",
    "    # Update headers and add YAML metadata\n",
    "    new_lines = []\n",
    "    header_metadata_added = False\n",
    "    for line in content_lines:\n",
    "        if line.startswith(\"#\"):\n",
    "            header_level = len(re.match(r'#+', line).group(0))\n",
    "            new_header_level = header_level + 1\n",
    "            new_line = re.sub(r'^#+', '#' * new_header_level, line)\n",
    "            new_line = new_line.replace(\"“\", '\"').replace(\"”\", '\"')\n",
    "            new_lines.append(new_line)\n",
    "            if new_header_level == 2 and not header_metadata_added:\n",
    "                new_lines.append(yaml_str)\n",
    "                header_metadata_added = True\n",
    "        else:\n",
    "            new_lines.append(line)\n",
    "    # Write the modified content back to the file\n",
    "    with open(file_path, 'w') as file:\n",
    "        file.writelines(new_lines)"
   ]
  },
  {
   "cell_type": "code",
   "execution_count": 93,
   "metadata": {},
   "outputs": [],
   "source": [
    "original_dir = \"..\\\\data\\\\DC-cleaned-md\"\n",
    "\n",
    "for root, dirs, files in os.walk(original_dir):\n",
    "    for name in files:\n",
    "        if name.endswith('.md'):\n",
    "            path = os.path.join(root, name)\n",
    "            try:\n",
    "                process_markdown(path)\n",
    "            except:\n",
    "                print(f\"{path}\")\n"
   ]
  },
  {
   "cell_type": "code",
   "execution_count": 83,
   "metadata": {},
   "outputs": [],
   "source": [
    "lists = [\"..\\\\data\\\\DC-cleaned-md\\\\Non-Residential\\\\Business-Park\\\\WCP.md\", \"..\\\\data\\\\DC-cleaned-md\\\\Non-Residential\\\\C-CI\\\\WCP.md\", \"..\\\\data\\\\DC-cleaned-md\\\\Non-Residential\\\\EI\\\\WCP.md\", \"..\\\\data\\\\DC-cleaned-md\\\\Non-Residential\\\\HMC\\\\WCP.md\", \"..\\\\data\\\\DC-cleaned-md\\\\Non-Residential\\\\Hotel\\\\WCP.md\", \"..\\\\data\\\\DC-cleaned-md\\\\Non-Residential\\\\PW\\\\WCP.md\", \"..\\\\data\\\\DC-cleaned-md\\\\Non-Residential\\\\SR\\\\WCP.md\", \"..\\\\data\\\\DC-cleaned-md\\\\Residential\\\\Bungalows\\\\Earthworks.md\", \"..\\\\data\\\\DC-cleaned-md\\\\Residential\\\\Flats-Condominiums\\\\Balconies-PES-PRT.md\", \"..\\\\data\\\\DC-cleaned-md\\\\Residential\\\\Flats-Condominiums\\\\WCP.md\", \"..\\\\data\\\\DC-cleaned-md\\\\Residential\\\\Strata-Landed-Housing\\\\Earthworks.md\", \"..\\\\data\\\\DC-cleaned-md\\\\Residential\\\\Terrace\\\\Earthworks.md\"]"
   ]
  },
  {
   "cell_type": "code",
   "execution_count": null,
   "metadata": {},
   "outputs": [],
   "source": [
    "for item in lists:\n",
    "    try:\n",
    "        process_markdown(path)\n",
    "    except:\n",
    "        print(f\"{path}\")\n"
   ]
  },
  {
   "cell_type": "code",
   "execution_count": 37,
   "metadata": {},
   "outputs": [
    {
     "name": "stdout",
     "output_type": "stream",
     "text": [
      "The character at byte index 7856 is: 'i'\n"
     ]
    }
   ],
   "source": [
    "def char_at_byte_index(file_path, byte_index, encoding='utf-8'):\n",
    "    with open(file_path, 'rb') as file:\n",
    "        # Seek to the byte index\n",
    "        file.seek(byte_index)\n",
    "        \n",
    "        # Read one byte\n",
    "        byte = file.read(1)\n",
    "        \n",
    "        # Decode the byte to a character\n",
    "        char = byte.decode(encoding)\n",
    "        \n",
    "        return char\n",
    "\n",
    "# Example usage\n",
    "file_path = '..\\\\data\\\\DC-cleaned-md\\\\gross-floor-area\\\\GFA\\\\GFARelatedMatters.md'\n",
    "byte_index = 7856  # Replace with the desired byte index\n",
    "character = char_at_byte_index(file_path, byte_index)\n",
    "print(f\"The character at byte index {byte_index} is: '{character}'\")"
   ]
  },
  {
   "cell_type": "code",
   "execution_count": 17,
   "metadata": {},
   "outputs": [],
   "source": [
    "markdown_file_path = '..\\\\data\\\\DC-cleaned-md\\\\gross-floor-area\\\\GFA\\\\SolarPanels.md'\n",
    "process_markdown(markdown_file_path)"
   ]
  }
 ],
 "metadata": {
  "kernelspec": {
   "display_name": "ura-langchain-search-DfH6f1fX-py3.10",
   "language": "python",
   "name": "python3"
  },
  "language_info": {
   "codemirror_mode": {
    "name": "ipython",
    "version": 3
   },
   "file_extension": ".py",
   "mimetype": "text/x-python",
   "name": "python",
   "nbconvert_exporter": "python",
   "pygments_lexer": "ipython3",
   "version": "3.10.11"
  }
 },
 "nbformat": 4,
 "nbformat_minor": 2
}
