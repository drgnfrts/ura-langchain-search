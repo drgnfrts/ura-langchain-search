{
 "cells": [
  {
   "cell_type": "markdown",
   "metadata": {},
   "source": [
    "# RAG Similarity Search with LlamaIndex\n",
    "\n",
    "(Auto Scrape Iteration 2 Part 3)\n",
    "\n",
    "Once the scrape is completed and cleaned, one option is to send it through a LlamaIndex pipeline and store in Qdrant vector store for retrieval. Import the necessary libraries as below"
   ]
  },
  {
   "cell_type": "code",
   "execution_count": 1,
   "metadata": {},
   "outputs": [],
   "source": [
    "import qdrant_client\n",
    "from llama_index.core import SimpleDirectoryReader\n",
    "from llama_index.vector_stores.qdrant import QdrantVectorStore\n",
    "from llama_index.core import VectorStoreIndex, StorageContext\n",
    "from llama_index.core.indices import MultiModalVectorStoreIndex\n",
    "import yaml\n"
   ]
  },
  {
   "cell_type": "markdown",
   "metadata": {},
   "source": [
    "Extract the metadata from the YAML section"
   ]
  },
  {
   "cell_type": "code",
   "execution_count": 2,
   "metadata": {},
   "outputs": [],
   "source": [
    "def get_document_metadata(filepath):\n",
    "    with open(filepath, 'r') as file:\n",
    "        content = file.read()\n",
    "        _, front_matter, _ = content.split('---', 2)\n",
    "        data = yaml.safe_load(front_matter)\n",
    "    return data"
   ]
  },
  {
   "cell_type": "markdown",
   "metadata": {},
   "source": [
    "Create the Qdrant client and set up Vector Stores for text and images. Kept seperate no multimodal embeddings model (e.g. CLIP) can handle the chunking needs for text documents (i.e. CLIP limits number of characters per chunk while each chunk we need needs significantly more than that)"
   ]
  },
  {
   "cell_type": "code",
   "execution_count": 3,
   "metadata": {},
   "outputs": [],
   "source": [
    "# Create a local Qdrant vector store\n",
    "client = qdrant_client.QdrantClient(path=\"qdrant_db\")"
   ]
  },
  {
   "cell_type": "code",
   "execution_count": 4,
   "metadata": {},
   "outputs": [],
   "source": [
    "text_store = QdrantVectorStore(\n",
    "    client=client, collection_name=\"text_collection\"\n",
    ")\n",
    "image_store = QdrantVectorStore(\n",
    "    client=client, collection_name=\"image_collection\"\n",
    ")\n",
    "storage_context = StorageContext.from_defaults(\n",
    "    vector_store=text_store, image_store=image_store\n",
    ")"
   ]
  },
  {
   "cell_type": "markdown",
   "metadata": {},
   "source": [
    "Load all files into the LlamaIndex pipeline"
   ]
  },
  {
   "cell_type": "code",
   "execution_count": 11,
   "metadata": {},
   "outputs": [],
   "source": [
    "documents = SimpleDirectoryReader(input_dir=\"../data/Development-Control-jina\", recursive=True, file_metadata=get_document_metadata).load_data()"
   ]
  },
  {
   "cell_type": "markdown",
   "metadata": {},
   "source": [
    "Create the Multimodal index"
   ]
  },
  {
   "cell_type": "code",
   "execution_count": 13,
   "metadata": {},
   "outputs": [],
   "source": [
    "index = MultiModalVectorStoreIndex.from_documents(\n",
    "    documents,\n",
    "    storage_context=storage_context,\n",
    ")"
   ]
  },
  {
   "cell_type": "markdown",
   "metadata": {},
   "source": [
    "And run the query! The output parameters can be changed - but in this case we want only the top 3 chunks and their metadata"
   ]
  },
  {
   "cell_type": "code",
   "execution_count": 15,
   "metadata": {},
   "outputs": [
    {
     "data": {
      "text/markdown": [
       "**Node ID:** ebe68476-5fab-4ca8-a164-09b60c125811<br>**Similarity:** 0.8581828758601634<br>**Text:** Evaluation Criteria\n",
       "\r\n",
       "Redevelopment proposals submitted under the SDI scheme shall be evaluated based on the following criteria:\r\n",
       "\r\n",
       "**SDI Scheme Evaluation Criteria**\r\n",
       "\r\n",
       "Urban Design and Architectural Design ConceptThe proposed project shall be a quality development that defines the site as a distinctive destination through its architectural design, scale, presence and setting in relation to the surrounding developments, pedestrian network, and the public realm.Environmental Improvement/ Contribution to the CommunityThe proposed project should enhance the public environment in a significant way and benefit the community at large, such as through:Quality public spaces;Measures designed to encourage the use of public transport and to discourage private car use;Enhanced pedestrian networks and promotion of active mobility;Public or cultural facilities (eg event and performance art venues, childcare facilities, and community services etc.);Enhancement to public infrastructure;Conservati...<br>**Metadata:** {'title': 'Bonus GFA Incentive Schemes', 'link': 'https://www.ura.gov.sg/Corporate/Guidelines/Development-Control/Non-Residential/Commercial/GFA-Incentive-Schemes', 'date': '21 November 2022'}<br>"
      ],
      "text/plain": [
       "<IPython.core.display.Markdown object>"
      ]
     },
     "metadata": {},
     "output_type": "display_data"
    },
    {
     "data": {
      "text/markdown": [
       "**Node ID:** c969efa5-a954-4960-9f23-e6704229a048<br>**Similarity:** 0.8568873009922435<br>**Text:** Conditions\n",
       "\r\n",
       "The evaluation by URA under the SDI Scheme is proposal-specific. An application that has been previously approved by the URA shall not be used or taken as a precedent for any other proposals or development applications seeking similar deviations from the planning parameters.\r\n",
       "\r\n",
       "Any additional incentive GFA or development intensity granted under the SDI Scheme may be subject to SLA levying Land Betterment Charge, where applicable.\r\n",
       "\r\n",
       "Any increase in development intensity approved by URA under this scheme shall not count towards the future development potential of the subject site.\r\n",
       "\r\n",
       "Bonus GFA shall not apply for requirements mandated as part of the SDI Scheme. For example, if a minimum Green Mark score is required, the prevailing Green Mark Bonus GFA shall not apply. The developments will still be eligible for Bonus GFA granted under other applicable schemes such as balcony or indoor recreational spaces, subject to the prevailing overall cap on Bonus GFA.\r\n",
       "\r\n",
       "Lease renew...<br>**Metadata:** {'title': 'Bonus GFA Incentive Schemes', 'link': 'https://www.ura.gov.sg/Corporate/Guidelines/Development-Control/Non-Residential/Commercial/GFA-Incentive-Schemes', 'date': '21 November 2022'}<br>"
      ],
      "text/plain": [
       "<IPython.core.display.Markdown object>"
      ]
     },
     "metadata": {},
     "output_type": "display_data"
    },
    {
     "data": {
      "text/markdown": [
       "**Node ID:** 64153537-c626-48af-b3fa-422c2af1426f<br>**Similarity:** 0.8487512873565062<br>**Text:** Eligibility\n",
       "\r\n",
       "The SDI Scheme is open to applications from building owners for developments in strategic areas across Singapore that meet the eligibility criteria.\r\n",
       "\r\n",
       "In particular, applications to redevelop existing developments in Orchard Road, Central Business District (CBD) and Marina Centre areas are encouraged, in line with the broader planning intention to rejuvenate these areas. Sites that fall within the designated areas for the CBD Incentive Scheme shall be guided by that scheme instead of being considered under the SDI scheme.\r\n",
       "\r\n",
       "Eligibility for consideration under the SDI Scheme is subject to the criteria outlined in the table below:\r\n",
       "\r\n",
       "**SDI Scheme Eligibility Requirements**\r\n",
       "\r\n",
       "Age of DevelopmentAt least 20 years old from date of last TOPExisting Land UseCommercial or mixed-use developments with predominantly commercial uses.Developments with predominantly residential uses will not be eligible.Transformational ImpactThe redevelopment proposal shall include a minimum of t...<br>**Metadata:** {'title': 'Bonus GFA Incentive Schemes', 'link': 'https://www.ura.gov.sg/Corporate/Guidelines/Development-Control/Non-Residential/Commercial/GFA-Incentive-Schemes', 'date': '21 November 2022'}<br>"
      ],
      "text/plain": [
       "<IPython.core.display.Markdown object>"
      ]
     },
     "metadata": {},
     "output_type": "display_data"
    }
   ],
   "source": [
    "test_query = \"What is the criteria for higher GFA for the SDI programme?\"\n",
    "# generate  retrieval results\n",
    "retriever = index.as_retriever(similarity_top_k=3)\n",
    "retrieval_results = retriever.retrieve(test_query)\n",
    "from llama_index.core.response.notebook_utils import display_source_node\n",
    "for res_node in retrieval_results:\n",
    "    display_source_node(res_node, source_length=1000, show_source_metadata=True)"
   ]
  },
  {
   "cell_type": "markdown",
   "metadata": {},
   "source": [
    "Close the client after use. If there is intent to repopulate or update the storage items, uncomment the line and delete the collection"
   ]
  },
  {
   "cell_type": "code",
   "execution_count": null,
   "metadata": {},
   "outputs": [],
   "source": [
    "#client.delete_collection(collection_name=\"text_collection\")\n",
    "#client.delete_collection(collection_name=\"image_collection\")"
   ]
  },
  {
   "cell_type": "code",
   "execution_count": 16,
   "metadata": {},
   "outputs": [],
   "source": [
    "client.close()"
   ]
  },
  {
   "cell_type": "markdown",
   "metadata": {},
   "source": [
    "Helper function to find weird characters manually"
   ]
  },
  {
   "cell_type": "code",
   "execution_count": null,
   "metadata": {},
   "outputs": [],
   "source": [
    "def char_at_byte_index(file_path, byte_index, encoding='utf-8'):\n",
    "    with open(file_path, 'rb') as file:\n",
    "        # Seek to the byte index\n",
    "        file.seek(byte_index)\n",
    "        \n",
    "        # Read one byte\n",
    "        byte = file.read(1)\n",
    "        \n",
    "        # Decode the byte to a character\n",
    "        char = byte.decode(encoding)\n",
    "        \n",
    "        return char\n",
    "\n",
    "# Example usage\n",
    "file_path = '..\\\\data\\\\DC-cleaned-md\\\\Non-Residential\\\\Hotel\\\\Waterbodies.md'\n",
    "byte_index = 2933  # Replace with the desired byte index\n",
    "character = char_at_byte_index(file_path, byte_index)\n",
    "print(f\"The character at byte index {byte_index} is: '{character}'\")"
   ]
  }
 ],
 "metadata": {
  "kernelspec": {
   "display_name": "ura-langchain-search-DfH6f1fX-py3.10",
   "language": "python",
   "name": "python3"
  },
  "language_info": {
   "codemirror_mode": {
    "name": "ipython",
    "version": 3
   },
   "file_extension": ".py",
   "mimetype": "text/x-python",
   "name": "python",
   "nbconvert_exporter": "python",
   "pygments_lexer": "ipython3",
   "version": "3.10.11"
  }
 },
 "nbformat": 4,
 "nbformat_minor": 2
}
