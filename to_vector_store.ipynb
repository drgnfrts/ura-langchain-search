{
 "cells": [
  {
   "cell_type": "code",
   "execution_count": 4,
   "metadata": {},
   "outputs": [],
   "source": [
    "import qdrant_client\n",
    "from llama_index.core import SimpleDirectoryReader\n",
    "from llama_index.vector_stores.qdrant import QdrantVectorStore\n",
    "from llama_index.core import VectorStoreIndex, StorageContext\n",
    "from llama_index.core.indices import MultiModalVectorStoreIndex"
   ]
  },
  {
   "cell_type": "code",
   "execution_count": 51,
   "metadata": {},
   "outputs": [],
   "source": [
    "import yaml"
   ]
  },
  {
   "cell_type": "code",
   "execution_count": 57,
   "metadata": {},
   "outputs": [],
   "source": [
    "# Assuming the entire 'output.md' file is YAML content\n",
    "with open('docs/output.md', 'r') as file:\n",
    "    content = file.read()\n",
    "    _, front_matter, _ = content.split('---', 2)\n",
    "    data = yaml.safe_load(front_matter)"
   ]
  },
  {
   "cell_type": "code",
   "execution_count": 58,
   "metadata": {},
   "outputs": [
    {
     "name": "stdout",
     "output_type": "stream",
     "text": [
      "{'title': 'Release of 4th Quarter 2023 Real Estate Statistics', 'date': datetime.date(2024, 1, 26), 'source_link': 'https://www.ura.gov.sg/Corporate/Media-Room/Media-Releases/pr24-03'}\n"
     ]
    }
   ],
   "source": [
    "print(data)"
   ]
  },
  {
   "cell_type": "code",
   "execution_count": 59,
   "metadata": {},
   "outputs": [],
   "source": [
    "def get_document_metadata(filepath):\n",
    "    with open(filepath, 'r') as file:\n",
    "        content = file.read()\n",
    "        _, front_matter, _ = content.split('---', 2)\n",
    "        data = yaml.safe_load(front_matter)\n",
    "    return data"
   ]
  },
  {
   "cell_type": "code",
   "execution_count": null,
   "metadata": {},
   "outputs": [],
   "source": [
    "# Create a local Qdrant vector store\n",
    "client = qdrant_client.QdrantClient(path=\"qdrant_db\")"
   ]
  },
  {
   "cell_type": "code",
   "execution_count": 68,
   "metadata": {},
   "outputs": [],
   "source": [
    "text_store = QdrantVectorStore(\n",
    "    client=client, collection_name=\"text_collection\"\n",
    ")\n",
    "image_store = QdrantVectorStore(\n",
    "    client=client, collection_name=\"image_collection\"\n",
    ")\n",
    "storage_context = StorageContext.from_defaults(\n",
    "    vector_store=text_store, image_store=image_store\n",
    ")"
   ]
  },
  {
   "cell_type": "code",
   "execution_count": 32,
   "metadata": {},
   "outputs": [
    {
     "data": {
      "text/plain": [
       "True"
      ]
     },
     "execution_count": 32,
     "metadata": {},
     "output_type": "execute_result"
    }
   ],
   "source": [
    "client.delete_collection(collection_name=\"text_collection\")\n",
    "client.delete_collection(collection_name=\"image_collection\")"
   ]
  },
  {
   "cell_type": "code",
   "execution_count": 64,
   "metadata": {},
   "outputs": [],
   "source": [
    "documents = SimpleDirectoryReader(input_dir=\"test_data\", file_metadata=get_document_metadata).load_data()"
   ]
  },
  {
   "cell_type": "code",
   "execution_count": 65,
   "metadata": {},
   "outputs": [
    {
     "data": {
      "text/plain": [
       "[Document(id_='bdaa4127-33ac-4282-ab74-a97618825ef0', embedding=None, metadata={'title': 'Release of 4th Quarter 2023 Real Estate Statistics', 'date': '2024-01-26', 'source_link': 'https://www.ura.gov.sg/Corporate/Media-Room/Media-Releases/pr24-03'}, excluded_embed_metadata_keys=['file_name', 'file_type', 'file_size', 'creation_date', 'last_modified_date', 'last_accessed_date'], excluded_llm_metadata_keys=['file_name', 'file_type', 'file_size', 'creation_date', 'last_modified_date', 'last_accessed_date'], relationships={}, text='---\\r\\ntitle: Release of 4th Quarter 2023 Real Estate Statistics\\r\\ndate: \"2024-01-26\"\\r\\nsource_link: https://www.ura.gov.sg/Corporate/Media-Room/Media-Releases/pr24-03\\r\\n---\\r\\n\\r', start_char_idx=None, end_char_idx=None, text_template='{metadata_str}\\n\\n{content}', metadata_template='{key}: {value}', metadata_seperator='\\n'),\n",
       " Document(id_='70fbf6e0-389d-44e9-8f72-22c7c33b6fb9', embedding=None, metadata={'title': 'Release of 4th Quarter 2023 Real Estate Statistics', 'date': '2024-01-26', 'source_link': 'https://www.ura.gov.sg/Corporate/Media-Room/Media-Releases/pr24-03'}, excluded_embed_metadata_keys=['file_name', 'file_type', 'file_size', 'creation_date', 'last_modified_date', 'last_accessed_date'], excluded_llm_metadata_keys=['file_name', 'file_type', 'file_size', 'creation_date', 'last_modified_date', 'last_accessed_date'], relationships={}, text='\\n\\nRelease of 4th Quarter 2023 Real Estate Statistics\\n\\r\\nSale transaction volume for private residential properties decreased by 17% on a quarter-on-quarter basis in 4th Quarter 2023. The total transaction volume in 2023 fell by 13% compared to 2022, and was at its lowest level in seven years, since 2016. Private residential property rentals declined for the first time in over three years, by 2.1% in 4th Quarter 2023. For 2023 as a whole, private residential property rentals increased by 8.7%, a significant moderation from the 29.7% increase in 2022.\\r\\n\\r', start_char_idx=None, end_char_idx=None, text_template='{metadata_str}\\n\\n{content}', metadata_template='{key}: {value}', metadata_seperator='\\n'),\n",
       " Document(id_='a1a7207d-89d4-4a48-8057-8e187deec5d1', embedding=None, metadata={'title': 'Release of 4th Quarter 2023 Real Estate Statistics', 'date': '2024-01-26', 'source_link': 'https://www.ura.gov.sg/Corporate/Media-Room/Media-Releases/pr24-03'}, excluded_embed_metadata_keys=['file_name', 'file_type', 'file_size', 'creation_date', 'last_modified_date', 'last_accessed_date'], excluded_llm_metadata_keys=['file_name', 'file_type', 'file_size', 'creation_date', 'last_modified_date', 'last_accessed_date'], relationships={}, text='\\n\\nHousing Supply\\n\\r\\nAbout 4,100 private residential units (including ECs) were completed in 4th Quarter 2023. For the whole of 2023, a total of about 21,300 private residential units were completed, more than twice the number of completions in 2022. This was also the highest annual supply completion since 2016. The Government has ramped up housing supply via the Government Land Sales (GLS) programme. The Confirmed List supply of private housing in the GLS Programme has been increased significantly by around 50% to 9,250 units in 2023, from 6,290 units in 2022.\\r\\n\\r', start_char_idx=None, end_char_idx=None, text_template='{metadata_str}\\n\\n{content}', metadata_template='{key}: {value}', metadata_seperator='\\n'),\n",
       " Document(id_='69e1319a-b19d-4721-97da-f62d232e0b91', embedding=None, metadata={'title': 'Release of 4th Quarter 2023 Real Estate Statistics', 'date': '2024-01-26', 'source_link': 'https://www.ura.gov.sg/Corporate/Media-Room/Media-Releases/pr24-03'}, excluded_embed_metadata_keys=['file_name', 'file_type', 'file_size', 'creation_date', 'last_modified_date', 'last_accessed_date'], excluded_llm_metadata_keys=['file_name', 'file_type', 'file_size', 'creation_date', 'last_modified_date', 'last_accessed_date'], relationships={}, text='\\n\\nGLS Supply Injection\\n\\r\\nIn 1H2024, the GLS supply injection will be increased further, with the release of 5,450 units compared to 5,160 units in 2H2023 and 4,090 units in 1H2023. This is the highest supply on the Confirmed List in a single GLS Programme since the 2H2013 GLS Programme. These private residential units will be ready for sales launch in the coming year or so, to cater to purchase demand and help keep prices in line with economic fundamentals.\\r\\n\\r', start_char_idx=None, end_char_idx=None, text_template='{metadata_str}\\n\\n{content}', metadata_template='{key}: {value}', metadata_seperator='\\n'),\n",
       " Document(id_='c4607087-3f55-4275-96a7-1efd77dd567d', embedding=None, metadata={'title': 'Release of 4th Quarter 2023 Real Estate Statistics', 'date': '2024-01-26', 'source_link': 'https://www.ura.gov.sg/Corporate/Media-Room/Media-Releases/pr24-03'}, excluded_embed_metadata_keys=['file_name', 'file_type', 'file_size', 'creation_date', 'last_modified_date', 'last_accessed_date'], excluded_llm_metadata_keys=['file_name', 'file_type', 'file_size', 'creation_date', 'last_modified_date', 'last_accessed_date'], relationships={}, text='\\n\\nEconomic Activity and Mortgage Rates\\n\\r\\nGlobal economic activity is expected to ease further into 2024, with domestic mortgage rates at elevated levels. Households should continue to exercise prudence when taking on new financial commitments including long-term mortgage debt servicing obligations.\\r\\n\\r', start_char_idx=None, end_char_idx=None, text_template='{metadata_str}\\n\\n{content}', metadata_template='{key}: {value}', metadata_seperator='\\n'),\n",
       " Document(id_='05f08f11-ad74-4ee7-889d-8a4125bc77c8', embedding=None, metadata={'title': 'Release of 4th Quarter 2023 Real Estate Statistics', 'date': '2024-01-26', 'source_link': 'https://www.ura.gov.sg/Corporate/Media-Room/Media-Releases/pr24-03'}, excluded_embed_metadata_keys=['file_name', 'file_type', 'file_size', 'creation_date', 'last_modified_date', 'last_accessed_date'], excluded_llm_metadata_keys=['file_name', 'file_type', 'file_size', 'creation_date', 'last_modified_date', 'last_accessed_date'], relationships={}, text='\\n\\nPrivate Residential Market\\n\\r\\nThe Urban Redevelopment Authority (URA) released today the real estate statistics for 4th Quarter 2023.\\r\\n\\r', start_char_idx=None, end_char_idx=None, text_template='{metadata_str}\\n\\n{content}', metadata_template='{key}: {value}', metadata_seperator='\\n'),\n",
       " Document(id_='2c5d161b-3562-47ff-9c47-be962e683744', embedding=None, metadata={'title': 'Release of 4th Quarter 2023 Real Estate Statistics', 'date': '2024-01-26', 'source_link': 'https://www.ura.gov.sg/Corporate/Media-Room/Media-Releases/pr24-03'}, excluded_embed_metadata_keys=['file_name', 'file_type', 'file_size', 'creation_date', 'last_modified_date', 'last_accessed_date'], excluded_llm_metadata_keys=['file_name', 'file_type', 'file_size', 'creation_date', 'last_modified_date', 'last_accessed_date'], relationships={}, text='\\n\\nPrices and Rentals\\n\\r\\nPrices of private residential properties increased by 2.8% in 4th Quarter 2023, compared with the 0.8% increase in the previous quarter. For the whole of 2023, prices of private residential properties increased by 6.8%, moderating from the 8.6% increase in 2022.\\r\\n\\r', start_char_idx=None, end_char_idx=None, text_template='{metadata_str}\\n\\n{content}', metadata_template='{key}: {value}', metadata_seperator='\\n'),\n",
       " Document(id_='18019dee-6b50-4906-b10a-496a28322dba', embedding=None, metadata={'title': 'Release of 4th Quarter 2023 Real Estate Statistics', 'date': '2024-01-26', 'source_link': 'https://www.ura.gov.sg/Corporate/Media-Room/Media-Releases/pr24-03'}, excluded_embed_metadata_keys=['file_name', 'file_type', 'file_size', 'creation_date', 'last_modified_date', 'last_accessed_date'], excluded_llm_metadata_keys=['file_name', 'file_type', 'file_size', 'creation_date', 'last_modified_date', 'last_accessed_date'], relationships={}, text='\\n\\nProperty Price Index of Private Residential Properties\\n\\r\\nPrices of landed properties increased by 4.6% in 4th Quarter 2023, following the 3.6% decrease in the previous quarter. Prices of non-landed properties increased by 2.3% in 4th Quarter 2023, compared with the 2.2% increase in the previous quarter. For the whole of 2023, prices of landed properties rose by 8.0% while those of non-landed properties rose by 6.6%, moderating from the respective increases of 9.6% and 8.1% in 2022.\\r\\n\\r', start_char_idx=None, end_char_idx=None, text_template='{metadata_str}\\n\\n{content}', metadata_template='{key}: {value}', metadata_seperator='\\n'),\n",
       " Document(id_='ea9afa7d-d207-4c72-b81a-089259955329', embedding=None, metadata={'title': 'Release of 4th Quarter 2023 Real Estate Statistics', 'date': '2024-01-26', 'source_link': 'https://www.ura.gov.sg/Corporate/Media-Room/Media-Releases/pr24-03'}, excluded_embed_metadata_keys=['file_name', 'file_type', 'file_size', 'creation_date', 'last_modified_date', 'last_accessed_date'], excluded_llm_metadata_keys=['file_name', 'file_type', 'file_size', 'creation_date', 'last_modified_date', 'last_accessed_date'], relationships={}, text='\\n\\nPrices by Region\\n\\r\\nPrices of non-landed properties in Core Central Region (CCR) increased by 3.9% in 4th Quarter 2023, following the 2.7% decrease in the previous quarter. Prices of non-landed properties in Rest of Central Region (RCR) decreased by 0.8% in 4th Quarter 2023, compared with the 2.1% increase in the previous quarter. Prices of non-landed properties in Outside Central Region (OCR) increased by 4.5%, compared with the 5.5% increase in the previous quarter. For the whole of 2023, prices of non-landed properties in CCR, RCR and OCR increased by 1.9%, 3.1% and 13.7% respectively.\\r\\n\\r', start_char_idx=None, end_char_idx=None, text_template='{metadata_str}\\n\\n{content}', metadata_template='{key}: {value}', metadata_seperator='\\n'),\n",
       " Document(id_='4555b8c1-77bd-4114-bef8-79cbfce96018', embedding=None, metadata={'title': 'Release of 4th Quarter 2023 Real Estate Statistics', 'date': '2024-01-26', 'source_link': 'https://www.ura.gov.sg/Corporate/Media-Room/Media-Releases/pr24-03'}, excluded_embed_metadata_keys=['file_name', 'file_type', 'file_size', 'creation_date', 'last_modified_date', 'last_accessed_date'], excluded_llm_metadata_keys=['file_name', 'file_type', 'file_size', 'creation_date', 'last_modified_date', 'last_accessed_date'], relationships={}, text='\\n\\nRentals of Private Residential Properties\\n\\r\\nRentals of private residential properties decreased by 2.1% in 4th Quarter 2023, compared to the 0.8% increase in the previous quarter. For the whole of 2023, rentals of private residential properties increased by 8.7%, a significant moderation from the 29.7% increase in 2022.\\r\\n\\r', start_char_idx=None, end_char_idx=None, text_template='{metadata_str}\\n\\n{content}', metadata_template='{key}: {value}', metadata_seperator='\\n'),\n",
       " Document(id_='1aedbd5f-9b75-491a-b0f2-ab8a80ed6365', embedding=None, metadata={'title': 'Release of 4th Quarter 2023 Real Estate Statistics', 'date': '2024-01-26', 'source_link': 'https://www.ura.gov.sg/Corporate/Media-Room/Media-Releases/pr24-03'}, excluded_embed_metadata_keys=['file_name', 'file_type', 'file_size', 'creation_date', 'last_modified_date', 'last_accessed_date'], excluded_llm_metadata_keys=['file_name', 'file_type', 'file_size', 'creation_date', 'last_modified_date', 'last_accessed_date'], relationships={}, text='\\n\\nRental Index of Private Residential Properties\\n\\r\\nRentals of non-landed properties decreased by 1.8%, a reversal from the 0.2% increase in the previous quarter. Rentals of landed properties decreased by 4.1% in 4th Quarter 2023, compared with the 4.4% increase in the previous quarter. For the whole of 2023, rentals of landed properties increased by 22.4% while rentals of non-landed properties increased by 6.9%.\\r\\n\\r', start_char_idx=None, end_char_idx=None, text_template='{metadata_str}\\n\\n{content}', metadata_template='{key}: {value}', metadata_seperator='\\n'),\n",
       " Document(id_='f96d4756-9a89-4014-9c4d-df94e38981c5', embedding=None, metadata={'title': 'Release of 4th Quarter 2023 Real Estate Statistics', 'date': '2024-01-26', 'source_link': 'https://www.ura.gov.sg/Corporate/Media-Room/Media-Releases/pr24-03'}, excluded_embed_metadata_keys=['file_name', 'file_type', 'file_size', 'creation_date', 'last_modified_date', 'last_accessed_date'], excluded_llm_metadata_keys=['file_name', 'file_type', 'file_size', 'creation_date', 'last_modified_date', 'last_accessed_date'], relationships={}, text='\\n\\nRentals by Region\\n\\r\\nRentals of non-landed properties in CCR decreased by 1.6% in 4th Quarter 2023, compared with the 1.7% decrease in the previous quarter. Rentals in RCR decreased by 1.2%, compared with the 1.9% increase in the previous quarter. Rentals in OCR decreased by 2.8%, compared with the 1.3% increase in the previous quarter. For the whole of 2023, rentals of non-landed properties in CCR, RCR and OCR increased by 5.0%, 9.0% and 7.5% respectively.\\r\\n\\r', start_char_idx=None, end_char_idx=None, text_template='{metadata_str}\\n\\n{content}', metadata_template='{key}: {value}', metadata_seperator='\\n'),\n",
       " Document(id_='297dba23-342f-4b5e-8752-3e468ca69822', embedding=None, metadata={'title': 'Release of 4th Quarter 2023 Real Estate Statistics', 'date': '2024-01-26', 'source_link': 'https://www.ura.gov.sg/Corporate/Media-Room/Media-Releases/pr24-03'}, excluded_embed_metadata_keys=['file_name', 'file_type', 'file_size', 'creation_date', 'last_modified_date', 'last_accessed_date'], excluded_llm_metadata_keys=['file_name', 'file_type', 'file_size', 'creation_date', 'last_modified_date', 'last_accessed_date'], relationships={}, text='\\n\\nLaunches and Take-up\\n\\r\\nDevelopers launched 1,060 uncompleted private residential units (excluding ECs) for sale in 4th Quarter 2023, compared with the 2,805 units in the previous quarter. For the whole of 2023, developers launched 7,551 uncompleted private residential properties for sale, compared with the 4,528 units in the previous year. Developers sold 1,092 private residential units (excluding ECs) in 4th Quarter 2023, compared with the 1,946 units sold in the previous quarter.\\r\\n\\r', start_char_idx=None, end_char_idx=None, text_template='{metadata_str}\\n\\n{content}', metadata_template='{key}: {value}', metadata_seperator='\\n'),\n",
       " Document(id_='e80caded-2f06-4a79-a2bd-3c8c8679d987', embedding=None, metadata={'title': 'Release of 4th Quarter 2023 Real Estate Statistics', 'date': '2024-01-26', 'source_link': 'https://www.ura.gov.sg/Corporate/Media-Room/Media-Releases/pr24-03'}, excluded_embed_metadata_keys=['file_name', 'file_type', 'file_size', 'creation_date', 'last_modified_date', 'last_accessed_date'], excluded_llm_metadata_keys=['file_name', 'file_type', 'file_size', 'creation_date', 'last_modified_date', 'last_accessed_date'], relationships={}, text='\\n\\nEC Units\\n\\r\\nDevelopers did not launch any EC units for sale in 4th Quarter 2023 and sold 54 EC units in the quarter. In comparison, developers launched 360 EC units for sale and sold 420 EC units in the previous quarter. For the whole of 2023, developers launched 360 EC units for sale and sold 737 EC units, compared with the 1,873 units launched and 1,479 units sold in 2022.\\r\\n\\r', start_char_idx=None, end_char_idx=None, text_template='{metadata_str}\\n\\n{content}', metadata_template='{key}: {value}', metadata_seperator='\\n'),\n",
       " Document(id_='67cd972f-f694-4dac-9c29-4ed44e1b9074', embedding=None, metadata={'title': 'Release of 4th Quarter 2023 Real Estate Statistics', 'date': '2024-01-26', 'source_link': 'https://www.ura.gov.sg/Corporate/Media-Room/Media-Releases/pr24-03'}, excluded_embed_metadata_keys=['file_name', 'file_type', 'file_size', 'creation_date', 'last_modified_date', 'last_accessed_date'], excluded_llm_metadata_keys=['file_name', 'file_type', 'file_size', 'creation_date', 'last_modified_date', 'last_accessed_date'], relationships={}, text='\\n\\nResales and Sub-sales\\n\\r\\nThere were 2,831 resale transactions in 4th Quarter 2023, compared with the 2,900 units transacted in the previous quarter. Resale transactions accounted for 65.3% of all sale transactions in 4th Quarter 2023, compared with 55.8% in the previous quarter. For the whole of 2023, there were 11,329 resale transactions, compared with the 14,026 resale transactions in 2022. There were 411 sub-sale transactions in 4th Quarter 2023 compared with the 355 units transacted in the previous quarter.\\r\\n\\r', start_char_idx=None, end_char_idx=None, text_template='{metadata_str}\\n\\n{content}', metadata_template='{key}: {value}', metadata_seperator='\\n'),\n",
       " Document(id_='e723c957-110a-4925-9fd3-d7073d787533', embedding=None, metadata={'title': 'Release of 4th Quarter 2023 Real Estate Statistics', 'date': '2024-01-26', 'source_link': 'https://www.ura.gov.sg/Corporate/Media-Room/Media-Releases/pr24-03'}, excluded_embed_metadata_keys=['file_name', 'file_type', 'file_size', 'creation_date', 'last_modified_date', 'last_accessed_date'], excluded_llm_metadata_keys=['file_name', 'file_type', 'file_size', 'creation_date', 'last_modified_date', 'last_accessed_date'], relationships={}, text='\\n\\nSupply Completions\\n\\r\\nA total of 4,085 private residential units (including ECs) were completed in 4th Quarter 2023. This brings the total completions in 2023 to 21,284 units, more than twice the number of completions in 2022 and the highest annual completions since 2016. Projects completed in the quarter include Parc Clematis (1,468 units), Sengkang Grand Residences (680 units) and Leedon Green (638 units).\\r\\n\\r', start_char_idx=None, end_char_idx=None, text_template='{metadata_str}\\n\\n{content}', metadata_template='{key}: {value}', metadata_seperator='\\n'),\n",
       " Document(id_='57b9b7c2-f113-4e56-977f-74c207723d46', embedding=None, metadata={'title': 'Release of 4th Quarter 2023 Real Estate Statistics', 'date': '2024-01-26', 'source_link': 'https://www.ura.gov.sg/Corporate/Media-Room/Media-Releases/pr24-03'}, excluded_embed_metadata_keys=['file_name', 'file_type', 'file_size', 'creation_date', 'last_modified_date', 'last_accessed_date'], excluded_llm_metadata_keys=['file_name', 'file_type', 'file_size', 'creation_date', 'last_modified_date', 'last_accessed_date'], relationships={}, text='\\n\\nSupply in the Pipeline\\n\\r\\nAs at the end of 4th Quarter 2023, there was a total supply of 34,251 uncompleted private residential units (excluding ECs) in the pipeline with planning approvals, of which 16,929 units remained unsold. After adding the supply of 4,902 EC units in the pipeline, there were 39,153 units (including ECs) in the pipeline with planning approvals, of which 17,729 units remained unsold, compared to 16,961 units a year ago.\\r\\n\\r', start_char_idx=None, end_char_idx=None, text_template='{metadata_str}\\n\\n{content}', metadata_template='{key}: {value}', metadata_seperator='\\n'),\n",
       " Document(id_='f15310fd-0a4b-4dfa-a8e7-4d81b71f8112', embedding=None, metadata={'title': 'Release of 4th Quarter 2023 Real Estate Statistics', 'date': '2024-01-26', 'source_link': 'https://www.ura.gov.sg/Corporate/Media-Room/Media-Releases/pr24-03'}, excluded_embed_metadata_keys=['file_name', 'file_type', 'file_size', 'creation_date', 'last_modified_date', 'last_accessed_date'], excluded_llm_metadata_keys=['file_name', 'file_type', 'file_size', 'creation_date', 'last_modified_date', 'last_accessed_date'], relationships={}, text='\\n\\nExpected Completions\\n\\r\\nBased on the expected completion dates reported by developers, 11,793 units (including ECs) will be completed in 2024. Another 6,747 units (including ECs) are expected to be completed in 2025. In total, about 18,500 units (including ECs) are expected to be completed between 2024 and 2025. Adding the supply of unsold units (including ECs) in the supply pipeline with planning approval, and those that have not been granted planning approval yet, around 34,380 units (including ECs) could be made available for sale later this year or next year.\\r\\n\\r', start_char_idx=None, end_char_idx=None, text_template='{metadata_str}\\n\\n{content}', metadata_template='{key}: {value}', metadata_seperator='\\n'),\n",
       " Document(id_='21761107-0271-44f5-aa4c-7cda78292bca', embedding=None, metadata={'title': 'Release of 4th Quarter 2023 Real Estate Statistics', 'date': '2024-01-26', 'source_link': 'https://www.ura.gov.sg/Corporate/Media-Room/Media-Releases/pr24-03'}, excluded_embed_metadata_keys=['file_name', 'file_type', 'file_size', 'creation_date', 'last_modified_date', 'last_accessed_date'], excluded_llm_metadata_keys=['file_name', 'file_type', 'file_size', 'creation_date', 'last_modified_date', 'last_accessed_date'], relationships={}, text='\\n\\nFuture Supply\\n\\r\\nThis includes the supply of about 5,450 private housing units on the Confirmed List of the GLS Programme in 1H2024, which is the highest supply on the Confirmed List in a single GLS Programme since 2H2013. The Government will continue to calibrate housing supply to cater to demand so as to promote a stable and sustainable property market.\\r\\n\\r', start_char_idx=None, end_char_idx=None, text_template='{metadata_str}\\n\\n{content}', metadata_template='{key}: {value}', metadata_seperator='\\n'),\n",
       " Document(id_='3eba7b94-a143-4890-be3d-5477ffe72b40', embedding=None, metadata={'title': 'Release of 4th Quarter 2023 Real Estate Statistics', 'date': '2024-01-26', 'source_link': 'https://www.ura.gov.sg/Corporate/Media-Room/Media-Releases/pr24-03'}, excluded_embed_metadata_keys=['file_name', 'file_type', 'file_size', 'creation_date', 'last_modified_date', 'last_accessed_date'], excluded_llm_metadata_keys=['file_name', 'file_type', 'file_size', 'creation_date', 'last_modified_date', 'last_accessed_date'], relationships={}, text='\\n\\nStock and Vacancy\\n\\r\\nThe stock of completed private residential units (excluding ECs) increased by 3,925 units in 4th Quarter 2023, compared with the increase of 8,374 units in the previous quarter. The stock of occupied private residential units (excluding ECs) increased by 4,926 units in 4th Quarter 2023, compared with the decrease of 915 units in the previous quarter. As a result, the vacancy rate of completed private residential units (excluding ECs) decreased to 8.1% as at end of 4th Quarter 2023, from 8.4% in the previous quarter.\\r\\n\\r', start_char_idx=None, end_char_idx=None, text_template='{metadata_str}\\n\\n{content}', metadata_template='{key}: {value}', metadata_seperator='\\n'),\n",
       " Document(id_='8692cb91-202d-4a90-a8f5-319908aa2f6d', embedding=None, metadata={'title': 'Release of 4th Quarter 2023 Real Estate Statistics', 'date': '2024-01-26', 'source_link': 'https://www.ura.gov.sg/Corporate/Media-Room/Media-Releases/pr24-03'}, excluded_embed_metadata_keys=['file_name', 'file_type', 'file_size', 'creation_date', 'last_modified_date', 'last_accessed_date'], excluded_llm_metadata_keys=['file_name', 'file_type', 'file_size', 'creation_date', 'last_modified_date', 'last_accessed_date'], relationships={}, text='\\n\\nStock and Vacancy Details\\n\\r\\nVacancy rates of completed private residential properties as at the end of 4th Quarter 2023 in CCR, RCR and OCR were 9.8%, 8.1% and 7.4% respectively, compared with the 10.0%, 9.3% and 7.3% in the previous quarter.\\r\\n\\r', start_char_idx=None, end_char_idx=None, text_template='{metadata_str}\\n\\n{content}', metadata_template='{key}: {value}', metadata_seperator='\\n'),\n",
       " Document(id_='975b2d2e-e7cb-4738-b00f-816a083ff91c', embedding=None, metadata={'title': 'Release of 4th Quarter 2023 Real Estate Statistics', 'date': '2024-01-26', 'source_link': 'https://www.ura.gov.sg/Corporate/Media-Room/Media-Releases/pr24-03'}, excluded_embed_metadata_keys=['file_name', 'file_type', 'file_size', 'creation_date', 'last_modified_date', 'last_accessed_date'], excluded_llm_metadata_keys=['file_name', 'file_type', 'file_size', 'creation_date', 'last_modified_date', 'last_accessed_date'], relationships={}, text='\\n\\nOffice Market\\n\\r', start_char_idx=None, end_char_idx=None, text_template='{metadata_str}\\n\\n{content}', metadata_template='{key}: {value}', metadata_seperator='\\n'),\n",
       " Document(id_='3e32f95e-8dba-4790-8fcb-a30eaa989aba', embedding=None, metadata={'title': 'Release of 4th Quarter 2023 Real Estate Statistics', 'date': '2024-01-26', 'source_link': 'https://www.ura.gov.sg/Corporate/Media-Room/Media-Releases/pr24-03'}, excluded_embed_metadata_keys=['file_name', 'file_type', 'file_size', 'creation_date', 'last_modified_date', 'last_accessed_date'], excluded_llm_metadata_keys=['file_name', 'file_type', 'file_size', 'creation_date', 'last_modified_date', 'last_accessed_date'], relationships={}, text='\\n\\nPrices and Rentals\\n\\r\\nPrices of office space decreased by 5.9% in 4th Quarter 2023, compared with the 0.8% increase in the previous quarter. Rentals of office space increased by 0.3% in 4th Quarter 2023, compared with the 4.9% increase in the previous quarter. For the whole of 2023, prices of office space decreased by 4.2%, compared with the decrease of 0.1% in 2022, while rentals of office space increased by 13.1%, compared with the increase of 11.7% in 2022.\\r\\n\\r', start_char_idx=None, end_char_idx=None, text_template='{metadata_str}\\n\\n{content}', metadata_template='{key}: {value}', metadata_seperator='\\n'),\n",
       " Document(id_='13389575-c2cb-4fb9-bbd3-612243af57af', embedding=None, metadata={'title': 'Release of 4th Quarter 2023 Real Estate Statistics', 'date': '2024-01-26', 'source_link': 'https://www.ura.gov.sg/Corporate/Media-Room/Media-Releases/pr24-03'}, excluded_embed_metadata_keys=['file_name', 'file_type', 'file_size', 'creation_date', 'last_modified_date', 'last_accessed_date'], excluded_llm_metadata_keys=['file_name', 'file_type', 'file_size', 'creation_date', 'last_modified_date', 'last_accessed_date'], relationships={}, text='\\n\\nSupply in the Pipeline\\n\\r\\nAs at the end of 4th Quarter 2023, there was a total supply of about 1,126,000 sq m GFA of office space in the pipeline, compared with the 1,077,000 sq m GFA of office space in the pipeline in the previous quarter.\\r\\n\\r', start_char_idx=None, end_char_idx=None, text_template='{metadata_str}\\n\\n{content}', metadata_template='{key}: {value}', metadata_seperator='\\n'),\n",
       " Document(id_='c29063cf-e816-4949-aa75-0dfa45b283ca', embedding=None, metadata={'title': 'Release of 4th Quarter 2023 Real Estate Statistics', 'date': '2024-01-26', 'source_link': 'https://www.ura.gov.sg/Corporate/Media-Room/Media-Releases/pr24-03'}, excluded_embed_metadata_keys=['file_name', 'file_type', 'file_size', 'creation_date', 'last_modified_date', 'last_accessed_date'], excluded_llm_metadata_keys=['file_name', 'file_type', 'file_size', 'creation_date', 'last_modified_date', 'last_accessed_date'], relationships={}, text='\\n\\nStock and Vacancy - Office Space\\n\\r\\nThe amount of occupied office space increased by 9,000 sq m (nett) in 4th Quarter 2023, compared with the increase of 23,000 sq m (nett) in the previous quarter. The stock of office space increased by 2,000 sq m (nett) in 4th Quarter 2023, compared with the decrease of 42,000 sq m (nett) in the previous quarter. As a result, the island-wide vacancy rate of office space decreased to 9.9% as at end of 4th Quarter 2023, from 10.0% as at end of the previous quarter.\\r\\n\\r', start_char_idx=None, end_char_idx=None, text_template='{metadata_str}\\n\\n{content}', metadata_template='{key}: {value}', metadata_seperator='\\n'),\n",
       " Document(id_='f93dbaf0-4e40-4ea0-9117-5ce25df732cb', embedding=None, metadata={'title': 'Release of 4th Quarter 2023 Real Estate Statistics', 'date': '2024-01-26', 'source_link': 'https://www.ura.gov.sg/Corporate/Media-Room/Media-Releases/pr24-03'}, excluded_embed_metadata_keys=['file_name', 'file_type', 'file_size', 'creation_date', 'last_modified_date', 'last_accessed_date'], excluded_llm_metadata_keys=['file_name', 'file_type', 'file_size', 'creation_date', 'last_modified_date', 'last_accessed_date'], relationships={}, text='\\n\\nRetail Market\\n\\r', start_char_idx=None, end_char_idx=None, text_template='{metadata_str}\\n\\n{content}', metadata_template='{key}: {value}', metadata_seperator='\\n'),\n",
       " Document(id_='ff546ad9-5481-472f-aaa9-1d14035f53e1', embedding=None, metadata={'title': 'Release of 4th Quarter 2023 Real Estate Statistics', 'date': '2024-01-26', 'source_link': 'https://www.ura.gov.sg/Corporate/Media-Room/Media-Releases/pr24-03'}, excluded_embed_metadata_keys=['file_name', 'file_type', 'file_size', 'creation_date', 'last_modified_date', 'last_accessed_date'], excluded_llm_metadata_keys=['file_name', 'file_type', 'file_size', 'creation_date', 'last_modified_date', 'last_accessed_date'], relationships={}, text='\\n\\nPrices and Rentals\\n\\r\\nPrices of retail space increased by 1.2% in 4th Quarter 2023, compared with the 0.6% increase in the previous quarter. Rentals of retail space decreased by 0.1% in 4th Quarter 2023, compared with the 0.5% increase in the previous quarter. For the whole of 2023, prices of retail space increased by 1.2%, compared with the decrease of 7.8% in 2022, while rentals of retail space increased by 0.4%, compared with the decrease of 2.4% in 2022.\\r\\n\\r', start_char_idx=None, end_char_idx=None, text_template='{metadata_str}\\n\\n{content}', metadata_template='{key}: {value}', metadata_seperator='\\n'),\n",
       " Document(id_='a5005e55-7567-435f-b64b-7396c4d9d1d0', embedding=None, metadata={'title': 'Release of 4th Quarter 2023 Real Estate Statistics', 'date': '2024-01-26', 'source_link': 'https://www.ura.gov.sg/Corporate/Media-Room/Media-Releases/pr24-03'}, excluded_embed_metadata_keys=['file_name', 'file_type', 'file_size', 'creation_date', 'last_modified_date', 'last_accessed_date'], excluded_llm_metadata_keys=['file_name', 'file_type', 'file_size', 'creation_date', 'last_modified_date', 'last_accessed_date'], relationships={}, text='\\n\\nSupply in the Pipeline - Retail Space\\n\\r\\nAs at the end of 4th Quarter 2023, there was a total supply of about 621,000 sq m GFA of retail space from projects in the pipeline, compared with the 600,000 sq m GFA of retail space in the pipeline in the previous quarter.\\r\\n\\r', start_char_idx=None, end_char_idx=None, text_template='{metadata_str}\\n\\n{content}', metadata_template='{key}: {value}', metadata_seperator='\\n'),\n",
       " Document(id_='b8d7aca1-486c-49d4-9baf-06e13736f9e1', embedding=None, metadata={'title': 'Release of 4th Quarter 2023 Real Estate Statistics', 'date': '2024-01-26', 'source_link': 'https://www.ura.gov.sg/Corporate/Media-Room/Media-Releases/pr24-03'}, excluded_embed_metadata_keys=['file_name', 'file_type', 'file_size', 'creation_date', 'last_modified_date', 'last_accessed_date'], excluded_llm_metadata_keys=['file_name', 'file_type', 'file_size', 'creation_date', 'last_modified_date', 'last_accessed_date'], relationships={}, text='\\n\\nStock and Vacancy - Retail Space\\n\\r\\nThe amount of occupied retail space increased by 63,000 sq m (nett) in 4th Quarter 2023, compared with the decrease of 8,000 sq m (nett) in the previous quarter. The stock of retail space increased by 21,000 sq m (nett) in 4th Quarter 2023, compared with the decrease of 23,000 sq m (nett) in the previous quarter. As a result, the island-wide vacancy rate of retail space decreased to 6.5% as at end of 4th Quarter 2023, from 7.2% as at end of the previous quarter.\\r\\n\\r', start_char_idx=None, end_char_idx=None, text_template='{metadata_str}\\n\\n{content}', metadata_template='{key}: {value}', metadata_seperator='\\n'),\n",
       " Document(id_='87db06d6-2606-4f9f-80dd-4308c2d3a568', embedding=None, metadata={'title': 'Release of 4th Quarter 2023 Real Estate Statistics', 'date': '2024-01-26', 'source_link': 'https://www.ura.gov.sg/Corporate/Media-Room/Media-Releases/pr24-03'}, excluded_embed_metadata_keys=['file_name', 'file_type', 'file_size', 'creation_date', 'last_modified_date', 'last_accessed_date'], excluded_llm_metadata_keys=['file_name', 'file_type', 'file_size', 'creation_date', 'last_modified_date', 'last_accessed_date'], relationships={}, text='\\n\\nMore Information\\n\\r\\nMore detailed information on the price and rental indices, supply in the pipeline, stock and vacancy rates of the various property sectors can be found in the Real Estate Information System (REALIS), an online database of URA. More information on REALIS can be found at https://www.ura.gov.sg/realis.\\r\\n\\r', start_char_idx=None, end_char_idx=None, text_template='{metadata_str}\\n\\n{content}', metadata_template='{key}: {value}', metadata_seperator='\\n'),\n",
       " Document(id_='c6d67e3c-db14-4c20-a23e-1bcbc731aa46', embedding=None, metadata={'title': 'Release of 4th Quarter 2023 Real Estate Statistics', 'date': '2024-01-26', 'source_link': 'https://www.ura.gov.sg/Corporate/Media-Room/Media-Releases/pr24-03'}, excluded_embed_metadata_keys=['file_name', 'file_type', 'file_size', 'creation_date', 'last_modified_date', 'last_accessed_date'], excluded_llm_metadata_keys=['file_name', 'file_type', 'file_size', 'creation_date', 'last_modified_date', 'last_accessed_date'], relationships={}, text='\\n\\nTransaction Details\\n\\r\\nThe prices of private residential properties are not uniform and vary from project to project. Home-buyers can view more detailed information on transactions of private residential properties at: https://www.ura.gov.sg/property-market-information/pmiResidentialTransactionSearch.\\r\\n\\r', start_char_idx=None, end_char_idx=None, text_template='{metadata_str}\\n\\n{content}', metadata_template='{key}: {value}', metadata_seperator='\\n'),\n",
       " Document(id_='cf625db6-942d-4cad-bd38-e0d94d771445', embedding=None, metadata={'title': 'Release of 4th Quarter 2023 Real Estate Statistics', 'date': '2024-01-26', 'source_link': 'https://www.ura.gov.sg/Corporate/Media-Room/Media-Releases/pr24-03'}, excluded_embed_metadata_keys=['file_name', 'file_type', 'file_size', 'creation_date', 'last_modified_date', 'last_accessed_date'], excluded_llm_metadata_keys=['file_name', 'file_type', 'file_size', 'creation_date', 'last_modified_date', 'last_accessed_date'], relationships={}, text=\"\\n\\nMobile Access\\n\\r\\nSimilar information can also be accessed by users on the go via URA's iphone/ipad application. The application can be downloaded directly from https://itunes.apple.com/app/property-market-information/id573494340?mt=8.\\r\\n\\r\", start_char_idx=None, end_char_idx=None, text_template='{metadata_str}\\n\\n{content}', metadata_template='{key}: {value}', metadata_seperator='\\n'),\n",
       " Document(id_='f22905a6-e582-4f40-9aa4-5f60361cc222', embedding=None, metadata={'title': 'Release of 4th Quarter 2023 Real Estate Statistics', 'date': '2024-01-26', 'source_link': 'https://www.ura.gov.sg/Corporate/Media-Room/Media-Releases/pr24-03'}, excluded_embed_metadata_keys=['file_name', 'file_type', 'file_size', 'creation_date', 'last_modified_date', 'last_accessed_date'], excluded_llm_metadata_keys=['file_name', 'file_type', 'file_size', 'creation_date', 'last_modified_date', 'last_accessed_date'], relationships={}, text='\\n\\nPipeline Supply Details\\n\\r\\nMore detailed data on supply in the pipeline by market segment, development status and expected year of completion can be found at https://www.ura.gov.sg/property-market-information/pmiResidentialPipelinePrivateUnits.\\r\\n\\r', start_char_idx=None, end_char_idx=None, text_template='{metadata_str}\\n\\n{content}', metadata_template='{key}: {value}', metadata_seperator='\\n'),\n",
       " Document(id_='67c10b92-ab66-4232-b004-296bd107c080', embedding=None, metadata={'title': 'Release of 4th Quarter 2023 Real Estate Statistics', 'date': '2024-01-26', 'source_link': 'https://www.ura.gov.sg/Corporate/Media-Room/Media-Releases/pr24-03'}, excluded_embed_metadata_keys=['file_name', 'file_type', 'file_size', 'creation_date', 'last_modified_date', 'last_accessed_date'], excluded_llm_metadata_keys=['file_name', 'file_type', 'file_size', 'creation_date', 'last_modified_date', 'last_accessed_date'], relationships={}, text='\\n\\nFuture Supply Estimate\\n\\r\\nIn addition, there is a potential supply of around 16,650 units (including ECs) from Government Land Sales (GLS) sites and awarded en-bloc sale sites that have not been granted planning approval yet, of which a significant proportion could be completed from around 2027 onwards. All in all, there are a total of about 55,800 private housing units in the supply pipeline to cater to the housing needs of the population in the next few years.\\r\\n', start_char_idx=None, end_char_idx=None, text_template='{metadata_str}\\n\\n{content}', metadata_template='{key}: {value}', metadata_seperator='\\n')]"
      ]
     },
     "execution_count": 65,
     "metadata": {},
     "output_type": "execute_result"
    }
   ],
   "source": [
    "documents"
   ]
  },
  {
   "cell_type": "code",
   "execution_count": 69,
   "metadata": {},
   "outputs": [],
   "source": [
    "# Create the MultiModal index\n",
    "index = MultiModalVectorStoreIndex.from_documents(\n",
    "    documents,\n",
    "    storage_context=storage_context,\n",
    ")"
   ]
  },
  {
   "cell_type": "code",
   "execution_count": 72,
   "metadata": {},
   "outputs": [
    {
     "data": {
      "text/markdown": [
       "**Node ID:** ff92dcc1-d331-4506-b9f2-e6bde4775e80<br>**Similarity:** 0.9081193335136626<br>**Text:** Prices and Rentals\n",
       "\r\n",
       "Prices of retail space increased by 1.2% in 4th Quarter 2023, compared with the 0.6% increase in the previous quarter. Rentals of retail space decreased by 0.1% in 4th Quarter 2023, compared with the 0.5% increase in the previous quarter. For the whole of 2023, prices of retail space increased by 1.2%, compared with the decrease of 7.8% in 2022, while rentals of retail space increased by 0.4%, compared with the decrease of 2.4% in 2022.<br>**Metadata:** {'title': 'Release of 4th Quarter 2023 Real Estate Statistics', 'date': '2024-01-26', 'source_link': 'https://www.ura.gov.sg/Corporate/Media-Room/Media-Releases/pr24-03'}<br>"
      ],
      "text/plain": [
       "<IPython.core.display.Markdown object>"
      ]
     },
     "metadata": {},
     "output_type": "display_data"
    },
    {
     "data": {
      "text/markdown": [
       "**Node ID:** b9921882-50ce-4a30-b512-740f8e15e13d<br>**Similarity:** 0.8881903134547322<br>**Text:** Prices and Rentals\n",
       "\r\n",
       "Prices of office space decreased by 5.9% in 4th Quarter 2023, compared with the 0.8% increase in the previous quarter. Rentals of office space increased by 0.3% in 4th Quarter 2023, compared with the 4.9% increase in the previous quarter. For the whole of 2023, prices of office space decreased by 4.2%, compared with the decrease of 0.1% in 2022, while rentals of office space increased by 13.1%, compared with the increase of 11.7% in 2022.<br>**Metadata:** {'title': 'Release of 4th Quarter 2023 Real Estate Statistics', 'date': '2024-01-26', 'source_link': 'https://www.ura.gov.sg/Corporate/Media-Room/Media-Releases/pr24-03'}<br>"
      ],
      "text/plain": [
       "<IPython.core.display.Markdown object>"
      ]
     },
     "metadata": {},
     "output_type": "display_data"
    },
    {
     "data": {
      "text/markdown": [
       "**Node ID:** 993d2917-b9b8-4f56-a9d2-013a1bd2fbbe<br>**Similarity:** 0.8809591841772909<br>**Text:** Stock and Vacancy - Retail Space\n",
       "\r\n",
       "The amount of occupied retail space increased by 63,000 sq m (nett) in 4th Quarter 2023, compared with the decrease of 8,000 sq m (nett) in the previous quarter. The stock of retail space increased by 21,000 sq m (nett) in 4th Quarter 2023, compared with the decrease of 23,000 sq m (nett) in the previous quarter. As a result, the island-wide vacancy rate of retail space decreased to 6.5% as at end of 4th Quarter 2023, from 7.2% as at end of the previous quarter.<br>**Metadata:** {'title': 'Release of 4th Quarter 2023 Real Estate Statistics', 'date': '2024-01-26', 'source_link': 'https://www.ura.gov.sg/Corporate/Media-Room/Media-Releases/pr24-03'}<br>"
      ],
      "text/plain": [
       "<IPython.core.display.Markdown object>"
      ]
     },
     "metadata": {},
     "output_type": "display_data"
    }
   ],
   "source": [
    "test_query = \"How much did prices of retail spaces increase by in 4th Quarter 2023?\"\n",
    "# generate  retrieval results\n",
    "retriever = index.as_retriever(similarity_top_k=3)\n",
    "retrieval_results = retriever.retrieve(test_query)\n",
    "from llama_index.core.response.notebook_utils import display_source_node\n",
    "for res_node in retrieval_results:\n",
    "    display_source_node(res_node, source_length=1000, show_source_metadata=True)"
   ]
  },
  {
   "cell_type": "code",
   "execution_count": 26,
   "metadata": {},
   "outputs": [],
   "source": [
    "from llama_index.core.response.notebook_utils import display_source_node"
   ]
  },
  {
   "cell_type": "code",
   "execution_count": 30,
   "metadata": {},
   "outputs": [
    {
     "data": {
      "text/markdown": [
       "**Node ID:** 4faed6e6-846e-451d-bd91-2ae0abeb96e4<br>**Similarity:** 0.8892642149539416<br>**Text:** Prices and Rentals\n",
       "\r\n",
       "Prices of retail space increased by 1.2% in 4th Quarter 2023, compared with the 0.6% increase in the previous quarter. Rentals of retail space decreased by 0.1% in 4th Quarter 2023, compared with the 0.5% increase in the previous quarter. For the whole of 2023, prices of retail space increased by 1.2%, compared with the decrease of 7.8% in 2022, while rentals of retail space increased by 0.4%, compared with the decrease of 2.4% in 2022.<br>"
      ],
      "text/plain": [
       "<IPython.core.display.Markdown object>"
      ]
     },
     "metadata": {},
     "output_type": "display_data"
    },
    {
     "data": {
      "text/markdown": [
       "**Node ID:** bbf299ec-c143-403e-8fd0-ce503b8c12e3<br>**Similarity:** 0.8660242835723257<br>**Text:** Prices and Rentals\n",
       "\r\n",
       "Prices of office space decreased by 5.9% in 4th Quarter 2023, compared with the 0.8% increase in the previous quarter. Rentals of office space increased by 0.3% in 4th Quarter 2023, compared with the 4.9% increase in the previous quarter. For the whole of 2023, prices of office space decreased by 4.2%, compared with the decrease of 0.1% in 2022, while rentals of office space increased by 13.1%, compared with the increase of 11.7% in 2022.<br>"
      ],
      "text/plain": [
       "<IPython.core.display.Markdown object>"
      ]
     },
     "metadata": {},
     "output_type": "display_data"
    },
    {
     "data": {
      "text/markdown": [
       "**Node ID:** d0f81c46-cd80-44e6-8549-f52d378e1646<br>**Similarity:** 0.8658311761771362<br>**Text:** Stock and Vacancy - Retail Space\n",
       "\r\n",
       "The amount of occupied retail space increased by 63,000 sq m (nett) in 4th Quarter 2023, compared with the decrease of 8,000 sq m (nett) in the previous quarter. The stock of retail space increased by 21,000 sq m (nett) in 4th Quarter 2023, compared with the decrease of 23,000 sq m (nett) in the previous quarter. As a result, the island-wide vacancy rate of retail space decreased to 6.5% as at end of 4th Quarter 2023, from 7.2% as at end of the previous quarter.<br>"
      ],
      "text/plain": [
       "<IPython.core.display.Markdown object>"
      ]
     },
     "metadata": {},
     "output_type": "display_data"
    }
   ],
   "source": []
  }
 ],
 "metadata": {
  "kernelspec": {
   "display_name": "ura-langchain-search-DfH6f1fX-py3.10",
   "language": "python",
   "name": "python3"
  },
  "language_info": {
   "codemirror_mode": {
    "name": "ipython",
    "version": 3
   },
   "file_extension": ".py",
   "mimetype": "text/x-python",
   "name": "python",
   "nbconvert_exporter": "python",
   "pygments_lexer": "ipython3",
   "version": "3.10.11"
  }
 },
 "nbformat": 4,
 "nbformat_minor": 2
}
