{
 "cells": [
  {
   "cell_type": "code",
   "execution_count": 1,
   "metadata": {},
   "outputs": [],
   "source": [
    "import qdrant_client\n",
    "from llama_index.core import SimpleDirectoryReader\n",
    "from llama_index.vector_stores.qdrant import QdrantVectorStore\n",
    "from llama_index.core import VectorStoreIndex, StorageContext\n",
    "from llama_index.core.indices import MultiModalVectorStoreIndex\n",
    "import yaml\n"
   ]
  },
  {
   "cell_type": "code",
   "execution_count": 3,
   "metadata": {},
   "outputs": [],
   "source": [
    "def get_document_metadata(filepath):\n",
    "    with open(filepath, 'r') as file:\n",
    "        content = file.read()\n",
    "        _, front_matter, _ = content.split('---', 2)\n",
    "        data = yaml.safe_load(front_matter)\n",
    "    return data"
   ]
  },
  {
   "cell_type": "code",
   "execution_count": 4,
   "metadata": {},
   "outputs": [],
   "source": [
    "# Create a local Qdrant vector store\n",
    "client = qdrant_client.QdrantClient(path=\"qdrant_db\")"
   ]
  },
  {
   "cell_type": "code",
   "execution_count": 5,
   "metadata": {},
   "outputs": [],
   "source": [
    "text_store = QdrantVectorStore(\n",
    "    client=client, collection_name=\"text_collection\"\n",
    ")\n",
    "image_store = QdrantVectorStore(\n",
    "    client=client, collection_name=\"image_collection\"\n",
    ")\n",
    "storage_context = StorageContext.from_defaults(\n",
    "    vector_store=text_store, image_store=image_store\n",
    ")"
   ]
  },
  {
   "cell_type": "code",
   "execution_count": null,
   "metadata": {},
   "outputs": [],
   "source": [
    "client.delete_collection(collection_name=\"text_collection\")\n",
    "client.delete_collection(collection_name=\"image_collection\")"
   ]
  },
  {
   "cell_type": "code",
   "execution_count": 8,
   "metadata": {},
   "outputs": [],
   "source": [
    "documents = SimpleDirectoryReader(input_dir=\"docs\", file_metadata=get_document_metadata).load_data()"
   ]
  },
  {
   "cell_type": "code",
   "execution_count": null,
   "metadata": {},
   "outputs": [],
   "source": [
    "client.close()"
   ]
  },
  {
   "cell_type": "code",
   "execution_count": 9,
   "metadata": {},
   "outputs": [],
   "source": [
    "# Create the MultiModal index\n",
    "index = MultiModalVectorStoreIndex.from_documents(\n",
    "    documents,\n",
    "    storage_context=storage_context,\n",
    ")"
   ]
  },
  {
   "cell_type": "code",
   "execution_count": 10,
   "metadata": {},
   "outputs": [
    {
     "data": {
      "text/markdown": [
       "**Node ID:** b1b61e4c-3a54-4483-b47d-e7500f559ac6<br>**Similarity:** 0.9081193440179913<br>**Text:** Prices and Rentals\n",
       "\r\n",
       "Prices of retail space increased by 1.2% in 4th Quarter 2023, compared with the 0.6% increase in the previous quarter. Rentals of retail space decreased by 0.1% in 4th Quarter 2023, compared with the 0.5% increase in the previous quarter. For the whole of 2023, prices of retail space increased by 1.2%, compared with the decrease of 7.8% in 2022, while rentals of retail space increased by 0.4%, compared with the decrease of 2.4% in 2022.<br>**Metadata:** {'title': 'Release of 4th Quarter 2023 Real Estate Statistics', 'date': '2024-01-26', 'source_link': 'https://www.ura.gov.sg/Corporate/Media-Room/Media-Releases/pr24-03'}<br>"
      ],
      "text/plain": [
       "<IPython.core.display.Markdown object>"
      ]
     },
     "metadata": {},
     "output_type": "display_data"
    }
   ],
   "source": [
    "test_query = \"How much did prices of retail spaces increase by in 4th Quarter 2023?\"\n",
    "# generate  retrieval results\n",
    "retriever = index.as_retriever(similarity_top_k=3)\n",
    "retrieval_results = retriever.retrieve(test_query)\n",
    "from llama_index.core.response.notebook_utils import display_source_node\n",
    "for res_node in retrieval_results:\n",
    "    display_source_node(res_node, source_length=1000, show_source_metadata=True)"
   ]
  }
 ],
 "metadata": {
  "kernelspec": {
   "display_name": "ura-langchain-search-DfH6f1fX-py3.10",
   "language": "python",
   "name": "python3"
  },
  "language_info": {
   "codemirror_mode": {
    "name": "ipython",
    "version": 3
   },
   "file_extension": ".py",
   "mimetype": "text/x-python",
   "name": "python",
   "nbconvert_exporter": "python",
   "pygments_lexer": "ipython3",
   "version": "3.10.11"
  }
 },
 "nbformat": 4,
 "nbformat_minor": 2
}
