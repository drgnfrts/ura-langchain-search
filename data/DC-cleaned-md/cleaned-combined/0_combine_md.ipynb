{
 "cells": [
  {
   "cell_type": "markdown",
   "metadata": {},
   "source": [
    "# Combines all md files in a folder into one file"
   ]
  },
  {
   "cell_type": "code",
   "execution_count": 1,
   "metadata": {},
   "outputs": [],
   "source": [
    "# Front Matter\n",
    "\n",
    "import os\n"
   ]
  },
  {
   "cell_type": "code",
   "execution_count": 2,
   "metadata": {},
   "outputs": [],
   "source": [
    "def combine_markdown_files(input_directory, output_file, header):\n",
    "    \"\"\"\n",
    "    Combines all markdown files in the specified directory into a single markdown file.\n",
    "\n",
    "    Parameters:\n",
    "    input_directory (str): The directory containing the markdown files to be combined.\n",
    "    output_file (str): The path to the output markdown file.\n",
    "    header (str): The header to be added at the top of the combined markdown file.\n",
    "    \"\"\"\n",
    "    # List all markdown files in the input directory\n",
    "    markdown_files = [f for f in os.listdir(input_directory) if f.endswith('.md') and f != 'Advisory-Notes.md']\n",
    "\n",
    "    # Sort files to ensure a consistent order (optional)\n",
    "    markdown_files.sort()\n",
    "\n",
    "    # Open the output file in write mode\n",
    "    with open(output_file, 'w', encoding='utf-8') as outfile:\n",
    "        # Write the header\n",
    "        outfile.write(f\"# {header}\\n\\n\")\n",
    "\n",
    "        # Iterate through each markdown file\n",
    "        for markdown_file in markdown_files:\n",
    "            file_path = os.path.join(input_directory, markdown_file)\n",
    "            try:\n",
    "                with open(file_path, 'r', encoding='utf-8') as infile:\n",
    "                    # Write the content of the current markdown file to the output file\n",
    "                    outfile.write(infile.read())\n",
    "                    # Add a newline to separate content from different files (optional)\n",
    "                    outfile.write('\\n\\n')\n",
    "            except UnicodeDecodeError:\n",
    "                with open(file_path, 'r', encoding='latin1') as infile:\n",
    "                    # Write the content of the current markdown file to the output file\n",
    "                    outfile.write(infile.read())\n",
    "                    # Add a newline to separate content from different files (optional)\n",
    "                    outfile.write('\\n\\n')\n",
    "\n",
    "    print(f\"Combined {len(markdown_files)} files into {output_file}\")\n"
   ]
  },
  {
   "cell_type": "code",
   "execution_count": 3,
   "metadata": {},
   "outputs": [
    {
     "name": "stdout",
     "output_type": "stream",
     "text": [
      "Combined 54 files into GFA_handbook.mdx\n"
     ]
    }
   ],
   "source": [
    "# GFA Handbook\n",
    "input_directory = '../gross-floor-area/GFA'\n",
    "output_file = 'GFA_handbook.mdx'\n",
    "header = 'GFA Handbook'\n",
    "combine_markdown_files(input_directory, output_file, header)"
   ]
  },
  {
   "cell_type": "code",
   "execution_count": 16,
   "metadata": {},
   "outputs": [
    {
     "name": "stdout",
     "output_type": "stream",
     "text": [
      "Combined 8 files into Agriculture.mdx\n",
      "Combined 18 files into Business_1.mdx\n",
      "Combined 17 files into Business_2.mdx\n",
      "Combined 17 files into Business-Park.mdx\n",
      "Combined 20 files into Civic_and_Community_Institution.mdx\n",
      "Combined 21 files into Commercial.mdx\n",
      "Combined 19 files into Educational_Institution.mdx\n",
      "Combined 18 files into Health_and_Medical_Care.mdx\n",
      "Combined 20 files into Hotel.mdx\n",
      "Combined 16 files into Place_of_Worship.mdx\n",
      "Combined 16 files into Sports_and_Recreation.mdx\n",
      "Combined 14 files into Transport.mdx\n"
     ]
    }
   ],
   "source": [
    "# Non-Residential\n",
    "\n",
    "# Non-Residential Agriculture\n",
    "input_directory = '../Non-Residential/Agriculture'\n",
    "output_file = 'Agriculture.mdx'\n",
    "header = 'Agriculture Land Use Guidelines'\n",
    "combine_markdown_files(input_directory, output_file, header)\n",
    "\n",
    "# Non-Residential B1\n",
    "input_directory = '../Non-Residential/B1'\n",
    "output_file = 'Business_1.mdx'\n",
    "header = 'Business 1 Land Use Guidelines'\n",
    "combine_markdown_files(input_directory, output_file, header)\n",
    "\n",
    "# Non-Residential B2\n",
    "input_directory = '../Non-Residential/B2'\n",
    "output_file = 'Business_2.mdx'\n",
    "header = 'Business 2 Land Use Guidelines'\n",
    "combine_markdown_files(input_directory, output_file, header)\n",
    "\n",
    "\n",
    "# Non-Residential Business-Park\n",
    "\n",
    "input_directory = '../Non-Residential/Business-Park'\n",
    "output_file = 'Business-Park.mdx'\n",
    "header = 'Business 2 Land Use Guidelines'\n",
    "combine_markdown_files(input_directory, output_file, header)\n",
    "\n",
    "\n",
    "# Non-Residential Civic and Community Institution\n",
    "\n",
    "input_directory = '../Non-Residential/C-CI'\n",
    "output_file = 'Civic_and_Community_Institution.mdx'\n",
    "header = 'Civic and Community Institution Land Use Guidelines'\n",
    "combine_markdown_files(input_directory, output_file, header)\n",
    "\n",
    "\n",
    "# Non-Residential Commercial\n",
    "\n",
    "input_directory = '../Non-Residential/Commercial'\n",
    "output_file = 'Commercial.mdx'\n",
    "header = 'Commercial Land Use Guidelines'\n",
    "combine_markdown_files(input_directory, output_file, header)\n",
    "\n",
    "\n",
    "# Non-Residential Educational Institution\n",
    "\n",
    "input_directory = '../Non-Residential/EI'\n",
    "output_file = 'Educational_Institution.mdx'\n",
    "header = 'Educational Institution Land Use Guidelines'\n",
    "combine_markdown_files(input_directory, output_file, header)\n",
    "\n",
    "# Non-Residential Health and Medical Care\n",
    "\n",
    "input_directory = '../Non-Residential/HMC'\n",
    "output_file = 'Health_and_Medical_Care.mdx'\n",
    "header = 'Health and Medical Care Land Use Guidelines'\n",
    "combine_markdown_files(input_directory, output_file, header)\n",
    "\n",
    "\n",
    "# Non-Residential Hotel\n",
    "\n",
    "input_directory = '../Non-Residential/Hotel'\n",
    "output_file = 'Hotel.mdx'\n",
    "header = 'Hotel Land Use Guidelines'\n",
    "combine_markdown_files(input_directory, output_file, header)\n",
    "\n",
    "# Non-Residential Place of Worship\n",
    "\n",
    "input_directory = '../Non-Residential/PW'\n",
    "output_file = 'Place_of_Worship.mdx'\n",
    "header = 'Place of Worship Land Use Guidelines'\n",
    "combine_markdown_files(input_directory, output_file, header)\n",
    "\n",
    "# Non-Residential Sports and Recreation\n",
    "\n",
    "input_directory = '../Non-Residential/SR'\n",
    "output_file = 'Sports_and_Recreation.mdx'\n",
    "header = 'Sports and Recreation Land Use Guidelines'\n",
    "combine_markdown_files(input_directory, output_file, header)\n",
    "\n",
    "\n",
    "# Non-Residential Transport\n",
    "\n",
    "input_directory = '../Non-Residential/Transport'\n",
    "output_file = 'Transport.mdx'\n",
    "header = 'Transport Land Use Guidelines'\n",
    "combine_markdown_files(input_directory, output_file, header)"
   ]
  },
  {
   "cell_type": "code",
   "execution_count": 5,
   "metadata": {},
   "outputs": [
    {
     "name": "stdout",
     "output_type": "stream",
     "text": [
      "Combined 15 files into Bungalows.mdx\n",
      "Combined 26 files into Flats_and_Condominiums.mdx\n",
      "Combined 14 files into Semi-Detached_Houses.mdx\n",
      "Combined 12 files into Strata_Landed_Housing.mdx\n",
      "Combined 14 files into Terrace.mdx\n"
     ]
    }
   ],
   "source": [
    "# Residential\n",
    "\n",
    "# Residential Bungalows\n",
    "input_directory = '../Residential/Bungalows'\n",
    "output_file = 'Bungalows.mdx'\n",
    "header = 'Bungalows Guidelines'\n",
    "combine_markdown_files(input_directory, output_file, header)\n",
    "\n",
    "# Residential Flats and Condominiums\n",
    "input_directory = '../Residential/Flats-Condominiums'\n",
    "output_file = 'Flats_and_Condominiums.mdx'\n",
    "header = 'Flats and Condominiums Guidelines'\n",
    "combine_markdown_files(input_directory, output_file, header)\n",
    "\n",
    "# Residential Semi-Detached Houses\n",
    "input_directory = '../Residential/Semi-Detached-Houses'\n",
    "output_file = 'Semi-Detached_Houses.mdx'\n",
    "header = 'Semi-Detached Houses Guidelines'\n",
    "combine_markdown_files(input_directory, output_file, header)\n",
    "\n",
    "# Residential Strata-Landed Housing\n",
    "input_directory = '../Residential/Strata-Landed-Housing'\n",
    "output_file = 'Strata_Landed_Housing.mdx'\n",
    "header = 'Strata Landed Housing Guidelines'\n",
    "combine_markdown_files(input_directory, output_file, header)\n",
    "\n",
    "# Residential Terrace\n",
    "input_directory = '../Residential/Terrace'\n",
    "output_file = 'Terrace.mdx'\n",
    "header = 'Terrace Guidelines'\n",
    "combine_markdown_files(input_directory, output_file, header)\n"
   ]
  }
 ],
 "metadata": {
  "kernelspec": {
   "display_name": "ura-langchain-search-86r0eKnV-py3.10",
   "language": "python",
   "name": "python3"
  },
  "language_info": {
   "codemirror_mode": {
    "name": "ipython",
    "version": 3
   },
   "file_extension": ".py",
   "mimetype": "text/x-python",
   "name": "python",
   "nbconvert_exporter": "python",
   "pygments_lexer": "ipython3",
   "version": "3.10.5"
  }
 },
 "nbformat": 4,
 "nbformat_minor": 2
}
