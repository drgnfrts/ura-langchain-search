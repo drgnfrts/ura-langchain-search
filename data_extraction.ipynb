{
 "cells": [
  {
   "cell_type": "code",
   "execution_count": null,
   "metadata": {},
   "outputs": [],
   "source": [
    "# import Unstructured sub-libraries\n",
    "\n",
    "from unstructured.partition.html import partition_html\n",
    "from unstructured.cleaners.core import clean\n",
    "from unstructured.chunking.basic import chunk_elements\n",
    "import copy"
   ]
  },
  {
   "cell_type": "code",
   "execution_count": null,
   "metadata": {},
   "outputs": [],
   "source": [
    "# Load in link - use partition_html instead of default partition (auto) because its cleaner LOL. Run only ONCE to reduce scraping\n",
    "input_html = #YOUR URL HERE\n",
    "elements = partition_html(url=input_html,\n",
    "                                   headers={'User-Agent': 'Mozilla/5.0 (Windows NT 10.0; Win64; x64) AppleWebKit/537.36 (KHTML, like Gecko) Chrome/58.0.3029.110 Safari/537.36'})\n"
   ]
  },
  {
   "cell_type": "code",
   "execution_count": null,
   "metadata": {},
   "outputs": [],
   "source": [
    "doc_elements = []\n",
    "\n",
    "for item in elements:\n",
    "    seperate_item = copy.deepcopy(item)\n",
    "    doc_elements.append(seperate_item)"
   ]
  },
  {
   "cell_type": "code",
   "execution_count": null,
   "metadata": {},
   "outputs": [],
   "source": [
    "# iteratiung through the entire document to find the main body (because we can't find that with the standard HTML tags,,,,,,,,,,)\n",
    "\n",
    "START = 0\n",
    "END = 0\n",
    "flag = False\n",
    "\n",
    "for i in range(len(doc_elements)):\n",
    "\n",
    "    if flag == False and doc_elements[i].text == 'Search':\n",
    "        flag = True\n",
    "        continue\n",
    "    elif START == 0 and doc_elements[i].category == 'Title':\n",
    "        START = i\n",
    "        continue\n",
    "    elif END == 0 and doc_elements[i].text == 'Urban Redevelopment Authority':\n",
    "        END = i\n",
    "        break\n",
    "\n",
    "body_elements = doc_elements[START:END]"
   ]
  },
  {
   "cell_type": "code",
   "execution_count": null,
   "metadata": {},
   "outputs": [],
   "source": [
    "for item in body_elements:\n",
    "    print(item, item.category, item.id, item.tag)"
   ]
  },
  {
   "cell_type": "code",
   "execution_count": null,
   "metadata": {},
   "outputs": [],
   "source": [
    "fin = []\n",
    "for element in body_elements:\n",
    "    if element.tag == 'a':\n",
    "        continue\n",
    "    fin.append(element)"
   ]
  },
  {
   "cell_type": "code",
   "execution_count": null,
   "metadata": {},
   "outputs": [],
   "source": [
    "for items in fin:\n",
    "    print(items.text)"
   ]
  },
  {
   "cell_type": "code",
   "execution_count": null,
   "metadata": {},
   "outputs": [],
   "source": [
    "from unstructured.chunking.basic import chunk_elements"
   ]
  },
  {
   "cell_type": "code",
   "execution_count": null,
   "metadata": {},
   "outputs": [],
   "source": [
    "chunks = chunk_elements(fin, overlap_all=True)\n",
    "for chunk in chunks:\n",
    "    print(chunk)"
   ]
  }
 ],
 "metadata": {
  "kernelspec": {
   "display_name": "ura-langchain-search-Sf1ELh3b-py3.10",
   "language": "python",
   "name": "python3"
  },
  "language_info": {
   "codemirror_mode": {
    "name": "ipython",
    "version": 3
   },
   "file_extension": ".py",
   "mimetype": "text/x-python",
   "name": "python",
   "nbconvert_exporter": "python",
   "pygments_lexer": "ipython3",
   "version": "3.10.11"
  }
 },
 "nbformat": 4,
 "nbformat_minor": 2
}
