{
 "cells": [
  {
   "cell_type": "code",
   "execution_count": 1,
   "metadata": {},
   "outputs": [],
   "source": [
    "from process_text import html_to_markdown"
   ]
  },
  {
   "cell_type": "code",
   "execution_count": 6,
   "metadata": {},
   "outputs": [],
   "source": [
    "def scrape_links(url, visited, queue):\n",
    "    unique_links = []\n",
    "    try:\n",
    "        elements = partition_html(url=url,\n",
    "                                    headers={'User-Agent': 'Mozilla/5.0 (Windows NT 10.0; Win64; x64) AppleWebKit/537.36 (KHTML, like Gecko) Chrome/58.0.3029.110 Safari/537.36'})\n",
    "        body_elements = get_body(elements)\n",
    "        for element in body_elements:\n",
    "            if element.metadata.link_urls != None:\n",
    "                links = element.metadata.link_urls\n",
    "                for link in links :\n",
    "                    if 'https://' not in link and 'http://' not in link:\n",
    "                        link = 'https://www.ura.gov.sg' + link\n",
    "                    if \"https://www.ura.gov.sg/\" not in link or \"https://www.ura.gov.sg/maps\" in link:\n",
    "                        continue\n",
    "                    if link not in visited and link not in queue:\n",
    "                        unique_links.append(link)\n",
    "    except:\n",
    "        pass\n",
    "    return unique_links\n",
    "    "
   ]
  },
  {
   "cell_type": "code",
   "execution_count": 7,
   "metadata": {},
   "outputs": [],
   "source": [
    "def all_links_in_page(url):\n",
    "    links = []\n",
    "    visited = set()\n",
    "    queue = [url]\n",
    "    while queue:\n",
    "        current_url = queue.pop(0)\n",
    "        if current_url in visited:\n",
    "            continue\n",
    "        print(f\"Current Page: {current_url}\")\n",
    "        visited.add(current_url)\n",
    "        links.append(current_url)\n",
    "        queue += scrape_links(current_url, visited, queue)\n",
    "        time.sleep(0.5)\n",
    "    return links"
   ]
  },
  {
   "cell_type": "code",
   "execution_count": null,
   "metadata": {},
   "outputs": [],
   "source": [
    "test = all_links_in_page(\"https://www.ura.gov.sg/Corporate/Media-Room/Media-Releases\")"
   ]
  },
  {
   "cell_type": "code",
   "execution_count": null,
   "metadata": {},
   "outputs": [],
   "source": [
    "# time to trawl through the entire website (dont block me pls)\n",
    "import csv\n",
    "\n",
    "with open('ura_gov_sg_urls.csv', newline='') as csvfile:\n",
    "    ura_reader = csv.reader(csvfile)\n",
    "    next(ura_reader)\n",
    "    for row in ura_reader:\n",
    "        print(row[0])"
   ]
  },
  {
   "cell_type": "code",
   "execution_count": null,
   "metadata": {},
   "outputs": [],
   "source": [
    "\n",
    "\n"
   ]
  }
 ],
 "metadata": {
  "kernelspec": {
   "display_name": "ura-langchain-search-Sf1ELh3b-py3.10",
   "language": "python",
   "name": "python3"
  },
  "language_info": {
   "codemirror_mode": {
    "name": "ipython",
    "version": 3
   },
   "file_extension": ".py",
   "mimetype": "text/x-python",
   "name": "python",
   "nbconvert_exporter": "python",
   "pygments_lexer": "ipython3",
   "version": "3.10.11"
  }
 },
 "nbformat": 4,
 "nbformat_minor": 2
}
